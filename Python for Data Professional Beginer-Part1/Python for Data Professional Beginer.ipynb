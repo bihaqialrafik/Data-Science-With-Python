{
 "cells": [
  {
   "cell_type": "code",
   "execution_count": 3,
   "metadata": {},
   "outputs": [
    {
     "name": "stdout",
     "output_type": "stream",
     "text": [
      "Hallo World!!!\n"
     ]
    }
   ],
   "source": [
    "print(\"Hallo World!!!\")"
   ]
  },
  {
   "cell_type": "code",
   "execution_count": 4,
   "metadata": {},
   "outputs": [
    {
     "name": "stdout",
     "output_type": "stream",
     "text": [
      "Belajar Python menyenangkan\n",
      "Halo Dunia\n",
      "Hello World!\n",
      "15\n"
     ]
    }
   ],
   "source": [
    "# Statement\n",
    "print(\"Belajar Python menyenangkan\") \n",
    "print(\"Halo Dunia\")\n",
    "print(\"Hello World!\")\n",
    "# Variables & Literals\n",
    "bilangan1 = 5\n",
    "bilangan2 = 10\n",
    "kalimat1 = \"Belajar Bahasa Python\"\n",
    "# Operators\n",
    "print(bilangan1 + bilangan2)"
   ]
  },
  {
   "cell_type": "code",
   "execution_count": 15,
   "metadata": {},
   "outputs": [
    {
     "name": "stdout",
     "output_type": "stream",
     "text": [
      "1\n",
      "empat\n"
     ]
    }
   ],
   "source": [
    "contoh_list = [1,'dua',3,2,5]\n",
    "print(contoh_list[0]) #mengambil nilai 1\n",
    "contoh_list[3] = 'empat'\n",
    "print(contoh_list[3]) #mengambil nilai 4 yang telah ditambahkan pada list"
   ]
  },
  {
   "cell_type": "code",
   "execution_count": 9,
   "metadata": {},
   "outputs": [
    {
     "ename": "AttributeError",
     "evalue": "'list' object has no attribute 'info'",
     "output_type": "error",
     "traceback": [
      "\u001b[1;31m---------------------------------------------------------------------------\u001b[0m",
      "\u001b[1;31mAttributeError\u001b[0m                            Traceback (most recent call last)",
      "\u001b[1;32m<ipython-input-9-31ed14904d35>\u001b[0m in \u001b[0;36m<module>\u001b[1;34m\u001b[0m\n\u001b[1;32m----> 1\u001b[1;33m \u001b[0mcontoh_list\u001b[0m\u001b[1;33m.\u001b[0m\u001b[0minfo\u001b[0m\u001b[1;33m(\u001b[0m\u001b[1;33m)\u001b[0m\u001b[1;33m\u001b[0m\u001b[1;33m\u001b[0m\u001b[0m\n\u001b[0m",
      "\u001b[1;31mAttributeError\u001b[0m: 'list' object has no attribute 'info'"
     ]
    }
   ],
   "source": [
    "contoh_list.info()"
   ]
  },
  {
   "cell_type": "code",
   "execution_count": 17,
   "metadata": {},
   "outputs": [
    {
     "name": "stdout",
     "output_type": "stream",
     "text": [
      "januari\n"
     ]
    }
   ],
   "source": [
    "contoh_tuple = ('januari', 'februari', 'maret', 'april')\n",
    "print(contoh_tuple[0]) #mengambil komponen pertama"
   ]
  },
  {
   "cell_type": "code",
   "execution_count": 18,
   "metadata": {},
   "outputs": [
    {
     "ename": "TypeError",
     "evalue": "'tuple' object does not support item assignment",
     "output_type": "error",
     "traceback": [
      "\u001b[1;31m---------------------------------------------------------------------------\u001b[0m",
      "\u001b[1;31mTypeError\u001b[0m                                 Traceback (most recent call last)",
      "\u001b[1;32m<ipython-input-18-8226b545c990>\u001b[0m in \u001b[0;36m<module>\u001b[1;34m\u001b[0m\n\u001b[1;32m----> 1\u001b[1;33m \u001b[0mcontoh_tuple\u001b[0m\u001b[1;33m[\u001b[0m\u001b[1;36m0\u001b[0m\u001b[1;33m]\u001b[0m \u001b[1;33m=\u001b[0m \u001b[1;34m'Desember'\u001b[0m \u001b[1;31m#mencoba merubah data pada tuple\u001b[0m\u001b[1;33m\u001b[0m\u001b[1;33m\u001b[0m\u001b[0m\n\u001b[0m",
      "\u001b[1;31mTypeError\u001b[0m: 'tuple' object does not support item assignment"
     ]
    }
   ],
   "source": [
    "contoh_tuple[0] = 'Desember' #mencoba merubah data pada tuple"
   ]
  },
  {
   "cell_type": "code",
   "execution_count": 20,
   "metadata": {},
   "outputs": [
    {
     "name": "stdout",
     "output_type": "stream",
     "text": [
      "['Al', 'El', 'Dul', 'Messi', 'Suarez', 'Messi']\n",
      "{'El', 'Messi', 'Al', 'Dul'}\n",
      "{'El', 'Al', 'Suarez', 'Dul'}\n"
     ]
    }
   ],
   "source": [
    "contoh_list = ['Al', 'El', 'Dul', 'Messi', 'Suarez', 'Messi'] \n",
    "print(contoh_list)\n",
    "contoh_set = {'Al', 'El', 'Al', 'Dul', 'Messi'}\n",
    "print(contoh_set)\n",
    "contoh_frozen_set = ({'Al', 'El', 'Dul', 'Suarez', 'Dul'})\n",
    "print(contoh_frozen_set)"
   ]
  },
  {
   "cell_type": "code",
   "execution_count": 24,
   "metadata": {},
   "outputs": [
    {
     "name": "stdout",
     "output_type": "stream",
     "text": [
      "Bihaqi Al Rafik\n",
      "23 tahun\n",
      "Data Scientist\n"
     ]
    }
   ],
   "source": [
    "person = {'nama': 'Bihaqi Al Rafik', 'umur' : '23 tahun', 'pekerjaan': 'Data Scientist'}\n",
    "print(person['nama'])\n",
    "print(person['umur'])\n",
    "print(person['pekerjaan'])"
   ]
  },
  {
   "cell_type": "code",
   "execution_count": 25,
   "metadata": {},
   "outputs": [
    {
     "name": "stdout",
     "output_type": "stream",
     "text": [
      "x habis dibagi dua\n",
      "x tidak habis dibagi dua, tiga ataupun lima\n"
     ]
    }
   ],
   "source": [
    "# Statement if\n",
    "x = 4\n",
    "if x % 2 == 0: # jika sisa bagi x dengan 2 sama dengan 0\n",
    "    print(\"x habis dibagi dua\") # statemen aksi lebih menjorok ke dalam\n",
    "# Statement if ... elif ... else\n",
    "x = 7\n",
    "if x % 2 == 0: # jika sisa bagi x dengan 2 sama dengan 0\n",
    "    print(\"x habis dibagi dua\")\n",
    "elif x % 3 == 0: # jika sisa bagi x dengan 3 sama dengan 0\n",
    "    print(\"x habis dibagi tiga\")\n",
    "elif x % 5 == 0: # jika sisa bagi x dengan 5 sama dengan 0\n",
    "    print(\"x habis dibagi lima\")\n",
    "else:\n",
    "    print(\"x tidak habis dibagi dua, tiga ataupun lima\")"
   ]
  },
  {
   "cell_type": "code",
   "execution_count": 27,
   "metadata": {},
   "outputs": [
    {
     "name": "stdout",
     "output_type": "stream",
     "text": [
      "750000\n"
     ]
    }
   ],
   "source": [
    "# Tagihan\n",
    "i = 0 # sebuah variabel untuk mengakses setiap elemen tagihan satu per satu\n",
    "jumlah_tagihan = len(tagihan) # panjang (jumlah elemen dalam) list tagihan\n",
    "total_tagihan = 0 # mula-mula, set total_tagihan ke 0\n",
    "while i < jumlah_tagihan: # selama nilai i kurang dari jumlah_tagihan\n",
    "    total_tagihan += tagihan[i] # tambahkan tagihan[i] ke total_tagihan\n",
    "    i += 1 # tambahkan nilai i dengan 1 untuk memproses tagihan selanjutnya.\n",
    "print(total_tagihan)"
   ]
  },
  {
   "cell_type": "code",
   "execution_count": 28,
   "metadata": {},
   "outputs": [
    {
     "name": "stdout",
     "output_type": "stream",
     "text": [
      "550000\n"
     ]
    }
   ],
   "source": [
    "list_tagihan = [50000, 75000, -150000, 125000, 300000, -50000, 200000]\n",
    "total_tagihan = 0\n",
    "for tagihan in list_tagihan: # untuk setiap tagihan dalam list_tagihan\n",
    "    total_tagihan += tagihan # tambahkan tagihan ke total_tagihan\n",
    "print(total_tagihan)"
   ]
  },
  {
   "cell_type": "code",
   "execution_count": 29,
   "metadata": {},
   "outputs": [
    {
     "name": "stdout",
     "output_type": "stream",
     "text": [
      "Apel Malang\n",
      "Duku Malang\n",
      "Jeruk Malang\n",
      "Apel Palembang\n",
      "Duku Palembang\n",
      "Jeruk Palembang\n",
      "Apel Medan\n",
      "Duku Medan\n",
      "Jeruk Medan\n"
     ]
    }
   ],
   "source": [
    "list_daerah = ['Malang', 'Palembang', 'Medan']\n",
    "list_buah = ['Apel', 'Duku', 'Jeruk']\n",
    "for nama_daerah in list_daerah:\n",
    "    for nama_buah in list_buah:\n",
    "        print(nama_buah+\" \"+nama_daerah)"
   ]
  },
  {
   "cell_type": "code",
   "execution_count": null,
   "metadata": {},
   "outputs": [],
   "source": []
  }
 ],
 "metadata": {
  "kernelspec": {
   "display_name": "Python 3",
   "language": "python",
   "name": "python3"
  },
  "language_info": {
   "codemirror_mode": {
    "name": "ipython",
    "version": 3
   },
   "file_extension": ".py",
   "mimetype": "text/x-python",
   "name": "python",
   "nbconvert_exporter": "python",
   "pygments_lexer": "ipython3",
   "version": "3.8.3"
  }
 },
 "nbformat": 4,
 "nbformat_minor": 4
}
