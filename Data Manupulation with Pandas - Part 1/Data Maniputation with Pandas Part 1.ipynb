{
 "cells": [
  {
   "cell_type": "markdown",
   "metadata": {},
   "source": [
    "# Data Manipulation with Pandas"
   ]
  },
  {
   "cell_type": "code",
   "execution_count": 2,
   "metadata": {},
   "outputs": [],
   "source": [
    "import pandas as pd"
   ]
  },
  {
   "cell_type": "markdown",
   "metadata": {},
   "source": [
    "## Membuat Series"
   ]
  },
  {
   "cell_type": "code",
   "execution_count": 12,
   "metadata": {},
   "outputs": [
    {
     "name": "stdout",
     "output_type": "stream",
     "text": [
      "Contoh Membuat Series:\n",
      "0    70\n",
      "1    80\n",
      "2    90\n",
      "3    85\n",
      "4    50\n",
      "5    60\n",
      "dtype: int64\n"
     ]
    }
   ],
   "source": [
    "# Series\n",
    "contoh_series = pd.Series([70,80,90,85,50,60])\n",
    "print(\"Contoh Membuat Series:\")\n",
    "print(contoh_series)"
   ]
  },
  {
   "cell_type": "code",
   "execution_count": 18,
   "metadata": {},
   "outputs": [
    {
     "data": {
      "text/plain": [
       "dtype('int64')"
      ]
     },
     "execution_count": 18,
     "metadata": {},
     "output_type": "execute_result"
    }
   ],
   "source": [
    "contoh_series.dtypes"
   ]
  },
  {
   "cell_type": "markdown",
   "metadata": {},
   "source": [
    "## Membuat DataFrame"
   ]
  },
  {
   "cell_type": "code",
   "execution_count": 37,
   "metadata": {},
   "outputs": [
    {
     "name": "stdout",
     "output_type": "stream",
     "text": [
      "DataFrame:\n",
      "    0   1   2\n",
      "0  60  75  55\n",
      "1  80  90  60\n",
      "2  63  64  75\n",
      "3  90  84  76\n"
     ]
    }
   ],
   "source": [
    "# DataFrame\n",
    "nilai_siswa = ([60,75,55],\n",
    "          [80,90,60],\n",
    "          [63,64,75],\n",
    "          [90,84,76])\n",
    "nilai_siswa = pd.DataFrame(nilai_siswa)\n",
    "print(\"DataFrame:\")\n",
    "print(nilai_siswa)"
   ]
  },
  {
   "cell_type": "code",
   "execution_count": 42,
   "metadata": {},
   "outputs": [],
   "source": [
    "nilai_siswa = nilai_siswa.rename(columns={0: 'Tugas', 1: 'UTS', 2: 'UAS'})"
   ]
  },
  {
   "cell_type": "code",
   "execution_count": 110,
   "metadata": {},
   "outputs": [
    {
     "name": "stdout",
     "output_type": "stream",
     "text": [
      "   Tugas  UTS  UAS\n",
      "0     60   75   55\n",
      "1     80   90   60\n",
      "2     63   64   75\n",
      "3     90   84   76\n"
     ]
    }
   ],
   "source": [
    "print(nilai_siswa)"
   ]
  },
  {
   "cell_type": "code",
   "execution_count": 112,
   "metadata": {},
   "outputs": [
    {
     "name": "stdout",
     "output_type": "stream",
     "text": [
      "DataFrame:\n",
      "   Tugas  UTS  UAS\n",
      "0     60   75   55\n",
      "1     80   90   60\n",
      "2     63   64   75\n",
      "3     90   84   76\n"
     ]
    }
   ],
   "source": [
    "# DataFrame\n",
    "nilai = ([60,75,55],\n",
    "          [80,90,60],\n",
    "          [63,64,75],\n",
    "          [90,84,76])\n",
    "nilai = pd.DataFrame(nilai)\n",
    "cols = ['Tugas','UTS','UAS']\n",
    "print(\"DataFrame:\")\n",
    "print(nilai_siswa)"
   ]
  },
  {
   "cell_type": "code",
   "execution_count": 57,
   "metadata": {},
   "outputs": [
    {
     "name": "stdout",
     "output_type": "stream",
     "text": [
      "  Nama Siswa  Tugas  UTS   UAS\n",
      "0      Ahmad     80   90  55.6\n",
      "1       Aldo     50   80  52.9\n",
      "2    Bambang     60   85  74.5\n",
      "3       Budi     90   90  67.8\n",
      "4      Cindy     80   70  83.4\n"
     ]
    }
   ],
   "source": [
    "# Membuat DataFrame dengan nama kolomnya\n",
    "nilai_akhir = {\"Nama Siswa\" : [\"Ahmad\", \"Aldo\", \"Bambang\", \"Budi\", \"Cindy\"],\n",
    "               \"Tugas\" : [80,50,60,90,80],\n",
    "                \"UTS\" : [90,80,85,90,70],\n",
    "                \"UAS\" : [55.6,52.9,74.5,67.8,83.4]}\n",
    "nilai_akhir = pd.DataFrame(nilai_akhir)\n",
    "print(nilai_akhir)"
   ]
  },
  {
   "cell_type": "code",
   "execution_count": 58,
   "metadata": {},
   "outputs": [
    {
     "data": {
      "text/plain": [
       "Nama Siswa     object\n",
       "Tugas           int64\n",
       "UTS             int64\n",
       "UAS           float64\n",
       "dtype: object"
      ]
     },
     "execution_count": 58,
     "metadata": {},
     "output_type": "execute_result"
    }
   ],
   "source": [
    "nilai_akhir.dtypes"
   ]
  },
  {
   "cell_type": "code",
   "execution_count": 68,
   "metadata": {},
   "outputs": [
    {
     "name": "stdout",
     "output_type": "stream",
     "text": [
      "<class 'pandas.core.frame.DataFrame'>\n",
      "RangeIndex: 5 entries, 0 to 4\n",
      "Data columns (total 4 columns):\n",
      " #   Column      Non-Null Count  Dtype  \n",
      "---  ------      --------------  -----  \n",
      " 0   Nama Siswa  5 non-null      object \n",
      " 1   Tugas       5 non-null      int64  \n",
      " 2   UTS         5 non-null      int64  \n",
      " 3   UAS         5 non-null      float64\n",
      "dtypes: float64(1), int64(2), object(1)\n",
      "memory usage: 288.0+ bytes\n",
      "=============================================\n",
      "Ukuran dari DataFrame nilai_akhir: (5, 4)\n",
      "=============================================\n",
      "Tipe data nilai_akhir: Nama Siswa     object\n",
      "Tugas           int64\n",
      "UTS             int64\n",
      "UAS           float64\n",
      "dtype: object\n",
      "=============================================\n"
     ]
    }
   ],
   "source": [
    "# [1] attribute.info\n",
    "nilai_akhir.info()\n",
    "# [2] attribute.shape\n",
    "print(\"=\" * 45)\n",
    "print(\"Ukuran dari DataFrame nilai_akhir:\", nilai_akhir.shape)\n",
    "# [3] attribute.info\n",
    "print(\"=\" * 45)\n",
    "print(\"Tipe data nilai_akhir:\", nilai_akhir.dtypes)\n",
    "print(\"=\" * 45)"
   ]
  },
  {
   "cell_type": "code",
   "execution_count": 74,
   "metadata": {
    "scrolled": false
   },
   "outputs": [
    {
     "name": "stdout",
     "output_type": "stream",
     "text": [
      "\n",
      "[4] attribute .astype()\n",
      "Konversi nilai_akhir ke str:\n",
      "   Nama Siswa Tugas UTS   UAS\n",
      "0      Ahmad    80  90  55.6\n",
      "1       Aldo    50  80  52.9\n",
      "2    Bambang    60  85  74.5\n",
      "3       Budi    90  90  67.8\n",
      "4      Cindy    80  70  83.4\n"
     ]
    },
    {
     "data": {
      "text/plain": [
       "Nama Siswa     object\n",
       "Tugas           int64\n",
       "UTS             int64\n",
       "UAS           float64\n",
       "dtype: object"
      ]
     },
     "execution_count": 74,
     "metadata": {},
     "output_type": "execute_result"
    }
   ],
   "source": [
    "# [4] attribute .astype()\n",
    "print(\"\\n[4] attribute .astype()\")\n",
    "print(\"Konversi nilai_akhir ke str:\\n\", nilai_akhir.astype(\"str\"))\n",
    "nilai_akhir.dtypes"
   ]
  },
  {
   "cell_type": "code",
   "execution_count": 92,
   "metadata": {},
   "outputs": [
    {
     "name": "stdout",
     "output_type": "stream",
     "text": [
      "Copy nilai_akhir ke nilai_akhir_copy_list:\n",
      "   Nama Siswa  Tugas  UTS   UAS\n",
      "0      Ahmad     80   90  55.6\n",
      "1       Aldo     50   80  52.9\n",
      "2    Bambang     60   85  74.5\n",
      "3       Budi     90   90  67.8\n",
      "4      Cindy     80   70  83.4\n"
     ]
    }
   ],
   "source": [
    "# [4] attribute .copy()\n",
    "nilai_akhir_copy = nilai_akhir.copy()\n",
    "print(\"Copy nilai_akhir ke nilai_akhir_copy_list:\\n\", nilai_akhir_copy)"
   ]
  },
  {
   "cell_type": "code",
   "execution_count": 93,
   "metadata": {},
   "outputs": [
    {
     "name": "stdout",
     "output_type": "stream",
     "text": [
      "[6] attribute .to_list()\n",
      "[70, 80, 90, 85, 50, 60]\n"
     ]
    }
   ],
   "source": [
    "# [5] attribute .to_list()\n",
    "print(\"[5] attribute .to_list()\")\n",
    "print(contoh_series.to_list())"
   ]
  },
  {
   "cell_type": "code",
   "execution_count": 94,
   "metadata": {},
   "outputs": [
    {
     "data": {
      "text/plain": [
       "array([70, 80, 90, 85, 50, 60], dtype=int64)"
      ]
     },
     "execution_count": 94,
     "metadata": {},
     "output_type": "execute_result"
    }
   ],
   "source": [
    "# [6] attribute .unique()\n",
    "contoh_series.unique()"
   ]
  },
  {
   "cell_type": "code",
   "execution_count": 95,
   "metadata": {},
   "outputs": [
    {
     "data": {
      "text/plain": [
       "Nama Siswa    5\n",
       "Tugas         4\n",
       "UTS           4\n",
       "UAS           5\n",
       "dtype: int64"
      ]
     },
     "execution_count": 95,
     "metadata": {},
     "output_type": "execute_result"
    }
   ],
   "source": [
    "nilai_akhir.nunique()"
   ]
  },
  {
   "cell_type": "code",
   "execution_count": 105,
   "metadata": {},
   "outputs": [
    {
     "name": "stdout",
     "output_type": "stream",
     "text": [
      "[7] attribute .index\n",
      "Index nilai_akhir: RangeIndex(start=0, stop=5, step=1)\n"
     ]
    }
   ],
   "source": [
    "# [7] attribute .index\n",
    "print(\"[7] attribute .index\")\n",
    "print(\"Index nilai_akhir:\", nilai_akhir.index)"
   ]
  },
  {
   "cell_type": "code",
   "execution_count": 106,
   "metadata": {},
   "outputs": [
    {
     "name": "stdout",
     "output_type": "stream",
     "text": [
      "[8] attribute .columns\n",
      "Kolom nilai akhir: Index(['Nama Siswa', 'Tugas', 'UTS', 'UAS'], dtype='object')\n"
     ]
    }
   ],
   "source": [
    "# [8] attribute .columns\n",
    "print(\"[8] attribute .columns\")\n",
    "print(\"Kolom nilai akhir:\", nilai_akhir.columns)"
   ]
  },
  {
   "cell_type": "code",
   "execution_count": 107,
   "metadata": {},
   "outputs": [
    {
     "name": "stdout",
     "output_type": "stream",
     "text": [
      "[9] attribute .loc\n",
      ".loc[0:1] pada nilai_akhir:\n",
      "   Nama Siswa  Tugas  UTS   UAS\n",
      "0      Ahmad     80   90  55.6\n",
      "1       Aldo     50   80  52.9\n"
     ]
    }
   ],
   "source": [
    "# [9] attribute .loc\n",
    "print(\"[9] attribute .loc\")\n",
    "print(\".loc[0:1] pada nilai_akhir:\\n\", nilai_akhir.loc[0:1])"
   ]
  },
  {
   "cell_type": "code",
   "execution_count": 108,
   "metadata": {},
   "outputs": [
    {
     "name": "stdout",
     "output_type": "stream",
     "text": [
      "[10] attribute .iloc\n",
      "iloc[0:1] pada nilai_akhir:\n",
      "   Nama Siswa  Tugas  UTS   UAS\n",
      "0      Ahmad     80   90  55.6\n"
     ]
    }
   ],
   "source": [
    "# [10] attribute .iloc\n",
    "print(\"[10] attribute .iloc\")\n",
    "print(\"iloc[0:1] pada nilai_akhir:\\n\", nilai_akhir.iloc[0:1])"
   ]
  },
  {
   "cell_type": "markdown",
   "metadata": {},
   "source": [
    "##  Creating series & DataFrame from list"
   ]
  },
  {
   "cell_type": "code",
   "execution_count": 118,
   "metadata": {},
   "outputs": [
    {
     "name": "stdout",
     "output_type": "stream",
     "text": [
      "0    a\n",
      "1    1\n",
      "2    3\n",
      "3    5\n",
      "4    c\n",
      "5    d\n",
      "dtype: object\n",
      "         float char   obj char\n",
      "Index 1    1.0    a     b    c\n",
      "Index 2    2.5    d     e    f\n",
      "Index 3    5.0    g     h    i\n",
      "Index 4    7.5    j  10.5    l\n"
     ]
    }
   ],
   "source": [
    "# Creating series from list\n",
    "ex_list = ['a',1,3,5,'c','d']\n",
    "ex_series = pd.Series(ex_list)\n",
    "print(ex_series)\n",
    "# Creating dataframe from list of list\n",
    "ex_list_of_list = [[1  ,'a','b' ,'c'],\n",
    "                   [2.5,'d','e' ,'f'],\n",
    "                   [5  ,'g','h' ,'i'],\n",
    "                   [7.5,'j',10.5,'l']]\n",
    "index = ['Index 1','Index 2','Index 3','Index 4']\n",
    "cols = ['float','char','obj','char']\n",
    "ex_df = pd.DataFrame(ex_list_of_list, index=index, columns=cols)\n",
    "print(ex_df)"
   ]
  },
  {
   "cell_type": "markdown",
   "metadata": {},
   "source": [
    "##  Creating Series & DataFrame from Dictionary"
   ]
  },
  {
   "cell_type": "code",
   "execution_count": 119,
   "metadata": {},
   "outputs": [
    {
     "name": "stdout",
     "output_type": "stream",
     "text": [
      "1    a\n",
      "2    b\n",
      "3    c\n",
      "dtype: object\n",
      "  Kolom 1 Kolom 2 Kolom 3\n",
      "0       a       b       2\n",
      "1       b       c       3\n",
      "2       c       d       z\n"
     ]
    }
   ],
   "source": [
    "# Creating series from dictionary\n",
    "dict_series = {'1':'a',\n",
    "                '2':'b',\n",
    "                '3':'c'}\n",
    "ex_series = pd.Series(dict_series)\n",
    "print(ex_series)\n",
    "# Creating dataframe from dictionary\n",
    "df_series = {'Kolom 1':['a','b','c'],\n",
    "             'Kolom 2':['b','c','d'],\n",
    "             'Kolom 3':[2,3,'z']}\n",
    "ex_df = pd.DataFrame(df_series)\n",
    "print(ex_df)"
   ]
  },
  {
   "cell_type": "markdown",
   "metadata": {},
   "source": [
    "## Creating Series & DataFrame from Numpy Array"
   ]
  },
  {
   "cell_type": "code",
   "execution_count": 3,
   "metadata": {},
   "outputs": [
    {
     "name": "stdout",
     "output_type": "stream",
     "text": [
      "0    1\n",
      "1    2\n",
      "2    3\n",
      "3    4\n",
      "4    5\n",
      "5    6\n",
      "6    6\n",
      "7    7\n",
      "dtype: int32\n",
      "   0  1  2   3\n",
      "0  1  2  3   5\n",
      "1  5  6  7   8\n",
      "2  a  b  c  10\n"
     ]
    }
   ],
   "source": [
    "import numpy as np\n",
    "# Creating series from numpy array (1D)\n",
    "array_series = np.array([1,2,3,4,5,6,6,7])\n",
    "ex_series = pd.Series(array_series)\n",
    "print(ex_series)\n",
    "# Creating dataframe from numpy array (2D)\n",
    "df = np.array([[1  ,2  ,3  ,5],\n",
    "               [5  ,6  ,7  ,8],\n",
    "               ['a','b','c',10]])\n",
    "df = pd.DataFrame(df)\n",
    "print(df)"
   ]
  },
  {
   "cell_type": "markdown",
   "metadata": {},
   "source": [
    "## Read Dataset"
   ]
  },
  {
   "cell_type": "code",
   "execution_count": 7,
   "metadata": {},
   "outputs": [],
   "source": [
    "# Read File CSV\n",
    "df_csv = pd.read_csv(\"D:/Dataset/sample_csv.csv\")\n",
    "# Read File TSV\n",
    "df_tsv = pd.read_csv(\"D:/Dataset/sample_tsv.tsv\", sep='\\t')\n",
    "# File xlsx dengan data di sheet \"test\"\n",
    "df_excel = pd.read_excel(\"D:/Dataset/sample_excel.xlsx\", sheet_name=\"test\")"
   ]
  },
  {
   "cell_type": "code",
   "execution_count": 14,
   "metadata": {},
   "outputs": [
    {
     "data": {
      "text/html": [
       "<div>\n",
       "<style scoped>\n",
       "    .dataframe tbody tr th:only-of-type {\n",
       "        vertical-align: middle;\n",
       "    }\n",
       "\n",
       "    .dataframe tbody tr th {\n",
       "        vertical-align: top;\n",
       "    }\n",
       "\n",
       "    .dataframe thead th {\n",
       "        text-align: right;\n",
       "    }\n",
       "</style>\n",
       "<table border=\"1\" class=\"dataframe\">\n",
       "  <thead>\n",
       "    <tr style=\"text-align: right;\">\n",
       "      <th></th>\n",
       "      <th>order_id</th>\n",
       "      <th>order_date</th>\n",
       "      <th>customer_id</th>\n",
       "      <th>city</th>\n",
       "      <th>province</th>\n",
       "      <th>product_id</th>\n",
       "      <th>brand</th>\n",
       "      <th>quantity</th>\n",
       "      <th>item_price</th>\n",
       "    </tr>\n",
       "  </thead>\n",
       "  <tbody>\n",
       "    <tr>\n",
       "      <th>0</th>\n",
       "      <td>1612339</td>\n",
       "      <td>2019-01-01</td>\n",
       "      <td>18055</td>\n",
       "      <td>Jakarta Selatan</td>\n",
       "      <td>DKI Jakarta</td>\n",
       "      <td>P0648</td>\n",
       "      <td>BRAND_C</td>\n",
       "      <td>4</td>\n",
       "      <td>1934000</td>\n",
       "    </tr>\n",
       "    <tr>\n",
       "      <th>1</th>\n",
       "      <td>1612339</td>\n",
       "      <td>2019-01-01</td>\n",
       "      <td>18055</td>\n",
       "      <td>Jakarta Selatan</td>\n",
       "      <td>DKI Jakarta</td>\n",
       "      <td>P3826</td>\n",
       "      <td>BRAND_V</td>\n",
       "      <td>8</td>\n",
       "      <td>604000</td>\n",
       "    </tr>\n",
       "    <tr>\n",
       "      <th>2</th>\n",
       "      <td>1612339</td>\n",
       "      <td>2019-01-01</td>\n",
       "      <td>18055</td>\n",
       "      <td>Jakarta Selatan</td>\n",
       "      <td>DKI Jakarta</td>\n",
       "      <td>P1508</td>\n",
       "      <td>BRAND_G</td>\n",
       "      <td>12</td>\n",
       "      <td>747000</td>\n",
       "    </tr>\n",
       "    <tr>\n",
       "      <th>3</th>\n",
       "      <td>1612339</td>\n",
       "      <td>2019-01-01</td>\n",
       "      <td>18055</td>\n",
       "      <td>Jakarta Selatan</td>\n",
       "      <td>DKI Jakarta</td>\n",
       "      <td>P0520</td>\n",
       "      <td>BRAND_B</td>\n",
       "      <td>12</td>\n",
       "      <td>450000</td>\n",
       "    </tr>\n",
       "    <tr>\n",
       "      <th>4</th>\n",
       "      <td>1612339</td>\n",
       "      <td>2019-01-01</td>\n",
       "      <td>18055</td>\n",
       "      <td>Jakarta Selatan</td>\n",
       "      <td>DKI Jakarta</td>\n",
       "      <td>P1513</td>\n",
       "      <td>BRAND_G</td>\n",
       "      <td>3</td>\n",
       "      <td>1500000</td>\n",
       "    </tr>\n",
       "  </tbody>\n",
       "</table>\n",
       "</div>"
      ],
      "text/plain": [
       "   order_id  order_date  customer_id             city     province product_id  \\\n",
       "0   1612339  2019-01-01        18055  Jakarta Selatan  DKI Jakarta      P0648   \n",
       "1   1612339  2019-01-01        18055  Jakarta Selatan  DKI Jakarta      P3826   \n",
       "2   1612339  2019-01-01        18055  Jakarta Selatan  DKI Jakarta      P1508   \n",
       "3   1612339  2019-01-01        18055  Jakarta Selatan  DKI Jakarta      P0520   \n",
       "4   1612339  2019-01-01        18055  Jakarta Selatan  DKI Jakarta      P1513   \n",
       "\n",
       "     brand  quantity  item_price  \n",
       "0  BRAND_C         4     1934000  \n",
       "1  BRAND_V         8      604000  \n",
       "2  BRAND_G        12      747000  \n",
       "3  BRAND_B        12      450000  \n",
       "4  BRAND_G         3     1500000  "
      ]
     },
     "execution_count": 14,
     "metadata": {},
     "output_type": "execute_result"
    }
   ],
   "source": [
    "df_csv.head() # Menampilkan 5 data teratas"
   ]
  },
  {
   "cell_type": "code",
   "execution_count": 15,
   "metadata": {},
   "outputs": [
    {
     "data": {
      "text/html": [
       "<div>\n",
       "<style scoped>\n",
       "    .dataframe tbody tr th:only-of-type {\n",
       "        vertical-align: middle;\n",
       "    }\n",
       "\n",
       "    .dataframe tbody tr th {\n",
       "        vertical-align: top;\n",
       "    }\n",
       "\n",
       "    .dataframe thead th {\n",
       "        text-align: right;\n",
       "    }\n",
       "</style>\n",
       "<table border=\"1\" class=\"dataframe\">\n",
       "  <thead>\n",
       "    <tr style=\"text-align: right;\">\n",
       "      <th></th>\n",
       "      <th>order_id</th>\n",
       "      <th>order_date</th>\n",
       "      <th>customer_id</th>\n",
       "      <th>city</th>\n",
       "      <th>province</th>\n",
       "      <th>product_id</th>\n",
       "      <th>brand</th>\n",
       "      <th>quantity</th>\n",
       "      <th>item_price</th>\n",
       "    </tr>\n",
       "  </thead>\n",
       "  <tbody>\n",
       "    <tr>\n",
       "      <th>96</th>\n",
       "      <td>1612390</td>\n",
       "      <td>2019-01-01</td>\n",
       "      <td>12681</td>\n",
       "      <td>Makassar</td>\n",
       "      <td>Sulawesi Selatan</td>\n",
       "      <td>P3388</td>\n",
       "      <td>BRAND_S</td>\n",
       "      <td>10</td>\n",
       "      <td>450000</td>\n",
       "    </tr>\n",
       "    <tr>\n",
       "      <th>97</th>\n",
       "      <td>1612390</td>\n",
       "      <td>2019-01-01</td>\n",
       "      <td>12681</td>\n",
       "      <td>Makassar</td>\n",
       "      <td>Sulawesi Selatan</td>\n",
       "      <td>P3082</td>\n",
       "      <td>BRAND_R</td>\n",
       "      <td>18</td>\n",
       "      <td>1045000</td>\n",
       "    </tr>\n",
       "    <tr>\n",
       "      <th>98</th>\n",
       "      <td>1612390</td>\n",
       "      <td>2019-01-01</td>\n",
       "      <td>12681</td>\n",
       "      <td>Makassar</td>\n",
       "      <td>Sulawesi Selatan</td>\n",
       "      <td>P3354</td>\n",
       "      <td>BRAND_S</td>\n",
       "      <td>24</td>\n",
       "      <td>450000</td>\n",
       "    </tr>\n",
       "    <tr>\n",
       "      <th>99</th>\n",
       "      <td>1612390</td>\n",
       "      <td>2019-01-01</td>\n",
       "      <td>12681</td>\n",
       "      <td>Makassar</td>\n",
       "      <td>Sulawesi Selatan</td>\n",
       "      <td>P3357</td>\n",
       "      <td>BRAND_S</td>\n",
       "      <td>24</td>\n",
       "      <td>450000</td>\n",
       "    </tr>\n",
       "    <tr>\n",
       "      <th>100</th>\n",
       "      <td>1612390</td>\n",
       "      <td>2019-01-01</td>\n",
       "      <td>12681</td>\n",
       "      <td>Makassar</td>\n",
       "      <td>Sulawesi Selatan</td>\n",
       "      <td>P0422</td>\n",
       "      <td>BRAND_B</td>\n",
       "      <td>4</td>\n",
       "      <td>1325000</td>\n",
       "    </tr>\n",
       "  </tbody>\n",
       "</table>\n",
       "</div>"
      ],
      "text/plain": [
       "     order_id  order_date  customer_id      city          province product_id  \\\n",
       "96    1612390  2019-01-01        12681  Makassar  Sulawesi Selatan      P3388   \n",
       "97    1612390  2019-01-01        12681  Makassar  Sulawesi Selatan      P3082   \n",
       "98    1612390  2019-01-01        12681  Makassar  Sulawesi Selatan      P3354   \n",
       "99    1612390  2019-01-01        12681  Makassar  Sulawesi Selatan      P3357   \n",
       "100   1612390  2019-01-01        12681  Makassar  Sulawesi Selatan      P0422   \n",
       "\n",
       "       brand  quantity  item_price  \n",
       "96   BRAND_S        10      450000  \n",
       "97   BRAND_R        18     1045000  \n",
       "98   BRAND_S        24      450000  \n",
       "99   BRAND_S        24      450000  \n",
       "100  BRAND_B         4     1325000  "
      ]
     },
     "execution_count": 15,
     "metadata": {},
     "output_type": "execute_result"
    }
   ],
   "source": [
    "df_csv.tail() # Menampilkan 5 data terbawah"
   ]
  },
  {
   "cell_type": "markdown",
   "metadata": {},
   "source": [
    "## Read JSON"
   ]
  },
  {
   "cell_type": "code",
   "execution_count": 12,
   "metadata": {},
   "outputs": [
    {
     "data": {
      "text/html": [
       "<div>\n",
       "<style scoped>\n",
       "    .dataframe tbody tr th:only-of-type {\n",
       "        vertical-align: middle;\n",
       "    }\n",
       "\n",
       "    .dataframe tbody tr th {\n",
       "        vertical-align: top;\n",
       "    }\n",
       "\n",
       "    .dataframe thead th {\n",
       "        text-align: right;\n",
       "    }\n",
       "</style>\n",
       "<table border=\"1\" class=\"dataframe\">\n",
       "  <thead>\n",
       "    <tr style=\"text-align: right;\">\n",
       "      <th></th>\n",
       "      <th>data</th>\n",
       "      <th>update</th>\n",
       "    </tr>\n",
       "  </thead>\n",
       "  <tbody>\n",
       "    <tr>\n",
       "      <th>id</th>\n",
       "      <td>1.0</td>\n",
       "      <td>NaN</td>\n",
       "    </tr>\n",
       "    <tr>\n",
       "      <th>jumlah_odp</th>\n",
       "      <td>55982.0</td>\n",
       "      <td>NaN</td>\n",
       "    </tr>\n",
       "    <tr>\n",
       "      <th>jumlah_pdp</th>\n",
       "      <td>0.0</td>\n",
       "      <td>NaN</td>\n",
       "    </tr>\n",
       "    <tr>\n",
       "      <th>total_spesimen</th>\n",
       "      <td>4896793.0</td>\n",
       "      <td>NaN</td>\n",
       "    </tr>\n",
       "    <tr>\n",
       "      <th>total_spesimen_negatif</th>\n",
       "      <td>2726978.0</td>\n",
       "      <td>NaN</td>\n",
       "    </tr>\n",
       "    <tr>\n",
       "      <th>penambahan</th>\n",
       "      <td>NaN</td>\n",
       "      <td>{'jumlah_positif': 3770, 'jumlah_meninggal': 7...</td>\n",
       "    </tr>\n",
       "    <tr>\n",
       "      <th>harian</th>\n",
       "      <td>NaN</td>\n",
       "      <td>[{'key_as_string': '2020-03-02T00:00:00.000Z',...</td>\n",
       "    </tr>\n",
       "    <tr>\n",
       "      <th>total</th>\n",
       "      <td>NaN</td>\n",
       "      <td>{'jumlah_positif': 448118, 'jumlah_dirawat': 5...</td>\n",
       "    </tr>\n",
       "  </tbody>\n",
       "</table>\n",
       "</div>"
      ],
      "text/plain": [
       "                             data  \\\n",
       "id                            1.0   \n",
       "jumlah_odp                55982.0   \n",
       "jumlah_pdp                    0.0   \n",
       "total_spesimen          4896793.0   \n",
       "total_spesimen_negatif  2726978.0   \n",
       "penambahan                    NaN   \n",
       "harian                        NaN   \n",
       "total                         NaN   \n",
       "\n",
       "                                                                   update  \n",
       "id                                                                    NaN  \n",
       "jumlah_odp                                                            NaN  \n",
       "jumlah_pdp                                                            NaN  \n",
       "total_spesimen                                                        NaN  \n",
       "total_spesimen_negatif                                                NaN  \n",
       "penambahan              {'jumlah_positif': 3770, 'jumlah_meninggal': 7...  \n",
       "harian                  [{'key_as_string': '2020-03-02T00:00:00.000Z',...  \n",
       "total                   {'jumlah_positif': 448118, 'jumlah_dirawat': 5...  "
      ]
     },
     "execution_count": 12,
     "metadata": {},
     "output_type": "execute_result"
    }
   ],
   "source": [
    "# Read File JSON\n",
    "url = \"https://data.covid19.go.id/public/api/update.json\"\n",
    "df_json = pd.read_json(url)\n",
    "df_json.head(10) # Menampilkan 10 data teratas"
   ]
  },
  {
   "cell_type": "code",
   "execution_count": 16,
   "metadata": {},
   "outputs": [],
   "source": [
    "df_csv.to_clipboard()"
   ]
  },
  {
   "cell_type": "markdown",
   "metadata": {},
   "source": [
    "## Indexing"
   ]
  },
  {
   "cell_type": "code",
   "execution_count": 11,
   "metadata": {},
   "outputs": [
    {
     "name": "stdout",
     "output_type": "stream",
     "text": [
      "==============================================================================\n",
      "Index: RangeIndex(start=0, stop=101, step=1)\n",
      "==============================================================================\n",
      "Columns: Index(['order_id', 'order_date', 'customer_id', 'city', 'province',\n",
      "       'product_id', 'brand', 'quantity', 'item_price'],\n",
      "      dtype='object')\n",
      "==============================================================================\n"
     ]
    }
   ],
   "source": [
    "# Baca file TSV sample_tsv.tsv\n",
    "df = pd.read_csv(\"D:/Dataset/sample_tsv.tsv\", sep=\"\\t\")\n",
    "# Index dari df\n",
    "print(\"=\"*78)\n",
    "print(\"Index:\", df.index)\n",
    "print(\"=\"*78)\n",
    "# Column dari df\n",
    "print(\"Columns:\", df.columns)\n",
    "print(\"=\"*78)"
   ]
  },
  {
   "cell_type": "code",
   "execution_count": 12,
   "metadata": {},
   "outputs": [
    {
     "name": "stdout",
     "output_type": "stream",
     "text": [
      "order_date : Index(['2019-01-01'], dtype='object', name='order_date')\n",
      "city : Index(['Bogor', 'Jakarta Pusat', 'Jakarta Selatan', 'Jakarta Utara',\n",
      "       'Makassar', 'Malang', 'Surabaya', 'Tangerang'],\n",
      "      dtype='object', name='city')\n",
      "customer_id : Int64Index([12681, 13963, 15649, 17091, 17228, 17450, 17470, 17511, 17616,\n",
      "            18055],\n",
      "           dtype='int64', name='customer_id')\n"
     ]
    }
   ],
   "source": [
    "# Set multi index df\n",
    "df_x = df.set_index(['order_date', 'city','customer_id'])\n",
    "# Print nama dan level dari multi index\n",
    "for name, level in zip(df_x.index.names, df_x.index.levels):\n",
    "    print(name,':',level)"
   ]
  },
  {
   "cell_type": "code",
   "execution_count": 16,
   "metadata": {},
   "outputs": [
    {
     "name": "stdout",
     "output_type": "stream",
     "text": [
      "Dataframe awal:\n",
      "    order_id  order_date  customer_id             city     province product_id  \\\n",
      "0   1612339  2019-01-01        18055  Jakarta Selatan  DKI Jakarta      P0648   \n",
      "1   1612339  2019-01-01        18055  Jakarta Selatan  DKI Jakarta      P3826   \n",
      "2   1612339  2019-01-01        18055  Jakarta Selatan  DKI Jakarta      P1508   \n",
      "3   1612339  2019-01-01        18055  Jakarta Selatan  DKI Jakarta      P0520   \n",
      "4   1612339  2019-01-01        18055  Jakarta Selatan  DKI Jakarta      P1513   \n",
      "5   1612339  2019-01-01        18055  Jakarta Selatan  DKI Jakarta      P3911   \n",
      "6   1612339  2019-01-01        18055  Jakarta Selatan  DKI Jakarta      P1780   \n",
      "7   1612339  2019-01-01        18055  Jakarta Selatan  DKI Jakarta      P3132   \n",
      "8   1612339  2019-01-01        18055  Jakarta Selatan  DKI Jakarta      P1342   \n",
      "9   1612339  2019-01-01        18055  Jakarta Selatan  DKI Jakarta      P2556   \n",
      "\n",
      "     brand  quantity  item_price  \n",
      "0  BRAND_C         4     1934000  \n",
      "1  BRAND_V         8      604000  \n",
      "2  BRAND_G        12      747000  \n",
      "3  BRAND_B        12      450000  \n",
      "4  BRAND_G         3     1500000  \n",
      "5  BRAND_V         3     2095000  \n",
      "6  BRAND_H         3     2095000  \n",
      "7  BRAND_S         3     1745000  \n",
      "8  BRAND_F         6     1045000  \n",
      "9  BRAND_P         6     1045000  \n"
     ]
    }
   ],
   "source": [
    "df = pd.read_csv(\"D:/Dataset/sample_tsv.tsv\", sep=\"\\t\", nrows=10)\n",
    "# Cetak data frame awal\n",
    "print(\"Dataframe awal:\\n\", df)"
   ]
  },
  {
   "cell_type": "code",
   "execution_count": 18,
   "metadata": {},
   "outputs": [
    {
     "data": {
      "text/html": [
       "<div>\n",
       "<style scoped>\n",
       "    .dataframe tbody tr th:only-of-type {\n",
       "        vertical-align: middle;\n",
       "    }\n",
       "\n",
       "    .dataframe tbody tr th {\n",
       "        vertical-align: top;\n",
       "    }\n",
       "\n",
       "    .dataframe thead th {\n",
       "        text-align: right;\n",
       "    }\n",
       "</style>\n",
       "<table border=\"1\" class=\"dataframe\">\n",
       "  <thead>\n",
       "    <tr style=\"text-align: right;\">\n",
       "      <th></th>\n",
       "      <th>order_id</th>\n",
       "      <th>order_date</th>\n",
       "      <th>customer_id</th>\n",
       "      <th>city</th>\n",
       "      <th>province</th>\n",
       "      <th>product_id</th>\n",
       "      <th>brand</th>\n",
       "      <th>quantity</th>\n",
       "      <th>item_price</th>\n",
       "    </tr>\n",
       "  </thead>\n",
       "  <tbody>\n",
       "    <tr>\n",
       "      <th>Pesanan ke-1</th>\n",
       "      <td>1612339</td>\n",
       "      <td>2019-01-01</td>\n",
       "      <td>18055</td>\n",
       "      <td>Jakarta Selatan</td>\n",
       "      <td>DKI Jakarta</td>\n",
       "      <td>P0648</td>\n",
       "      <td>BRAND_C</td>\n",
       "      <td>4</td>\n",
       "      <td>1934000</td>\n",
       "    </tr>\n",
       "    <tr>\n",
       "      <th>Pesanan ke-2</th>\n",
       "      <td>1612339</td>\n",
       "      <td>2019-01-01</td>\n",
       "      <td>18055</td>\n",
       "      <td>Jakarta Selatan</td>\n",
       "      <td>DKI Jakarta</td>\n",
       "      <td>P3826</td>\n",
       "      <td>BRAND_V</td>\n",
       "      <td>8</td>\n",
       "      <td>604000</td>\n",
       "    </tr>\n",
       "    <tr>\n",
       "      <th>Pesanan ke-3</th>\n",
       "      <td>1612339</td>\n",
       "      <td>2019-01-01</td>\n",
       "      <td>18055</td>\n",
       "      <td>Jakarta Selatan</td>\n",
       "      <td>DKI Jakarta</td>\n",
       "      <td>P1508</td>\n",
       "      <td>BRAND_G</td>\n",
       "      <td>12</td>\n",
       "      <td>747000</td>\n",
       "    </tr>\n",
       "    <tr>\n",
       "      <th>Pesanan ke-4</th>\n",
       "      <td>1612339</td>\n",
       "      <td>2019-01-01</td>\n",
       "      <td>18055</td>\n",
       "      <td>Jakarta Selatan</td>\n",
       "      <td>DKI Jakarta</td>\n",
       "      <td>P0520</td>\n",
       "      <td>BRAND_B</td>\n",
       "      <td>12</td>\n",
       "      <td>450000</td>\n",
       "    </tr>\n",
       "    <tr>\n",
       "      <th>Pesanan ke-5</th>\n",
       "      <td>1612339</td>\n",
       "      <td>2019-01-01</td>\n",
       "      <td>18055</td>\n",
       "      <td>Jakarta Selatan</td>\n",
       "      <td>DKI Jakarta</td>\n",
       "      <td>P1513</td>\n",
       "      <td>BRAND_G</td>\n",
       "      <td>3</td>\n",
       "      <td>1500000</td>\n",
       "    </tr>\n",
       "    <tr>\n",
       "      <th>Pesanan ke-6</th>\n",
       "      <td>1612339</td>\n",
       "      <td>2019-01-01</td>\n",
       "      <td>18055</td>\n",
       "      <td>Jakarta Selatan</td>\n",
       "      <td>DKI Jakarta</td>\n",
       "      <td>P3911</td>\n",
       "      <td>BRAND_V</td>\n",
       "      <td>3</td>\n",
       "      <td>2095000</td>\n",
       "    </tr>\n",
       "    <tr>\n",
       "      <th>Pesanan ke-7</th>\n",
       "      <td>1612339</td>\n",
       "      <td>2019-01-01</td>\n",
       "      <td>18055</td>\n",
       "      <td>Jakarta Selatan</td>\n",
       "      <td>DKI Jakarta</td>\n",
       "      <td>P1780</td>\n",
       "      <td>BRAND_H</td>\n",
       "      <td>3</td>\n",
       "      <td>2095000</td>\n",
       "    </tr>\n",
       "    <tr>\n",
       "      <th>Pesanan ke-8</th>\n",
       "      <td>1612339</td>\n",
       "      <td>2019-01-01</td>\n",
       "      <td>18055</td>\n",
       "      <td>Jakarta Selatan</td>\n",
       "      <td>DKI Jakarta</td>\n",
       "      <td>P3132</td>\n",
       "      <td>BRAND_S</td>\n",
       "      <td>3</td>\n",
       "      <td>1745000</td>\n",
       "    </tr>\n",
       "    <tr>\n",
       "      <th>Pesanan ke-9</th>\n",
       "      <td>1612339</td>\n",
       "      <td>2019-01-01</td>\n",
       "      <td>18055</td>\n",
       "      <td>Jakarta Selatan</td>\n",
       "      <td>DKI Jakarta</td>\n",
       "      <td>P1342</td>\n",
       "      <td>BRAND_F</td>\n",
       "      <td>6</td>\n",
       "      <td>1045000</td>\n",
       "    </tr>\n",
       "    <tr>\n",
       "      <th>Pesanan ke-10</th>\n",
       "      <td>1612339</td>\n",
       "      <td>2019-01-01</td>\n",
       "      <td>18055</td>\n",
       "      <td>Jakarta Selatan</td>\n",
       "      <td>DKI Jakarta</td>\n",
       "      <td>P2556</td>\n",
       "      <td>BRAND_P</td>\n",
       "      <td>6</td>\n",
       "      <td>1045000</td>\n",
       "    </tr>\n",
       "  </tbody>\n",
       "</table>\n",
       "</div>"
      ],
      "text/plain": [
       "               order_id  order_date  customer_id             city  \\\n",
       "Pesanan ke-1    1612339  2019-01-01        18055  Jakarta Selatan   \n",
       "Pesanan ke-2    1612339  2019-01-01        18055  Jakarta Selatan   \n",
       "Pesanan ke-3    1612339  2019-01-01        18055  Jakarta Selatan   \n",
       "Pesanan ke-4    1612339  2019-01-01        18055  Jakarta Selatan   \n",
       "Pesanan ke-5    1612339  2019-01-01        18055  Jakarta Selatan   \n",
       "Pesanan ke-6    1612339  2019-01-01        18055  Jakarta Selatan   \n",
       "Pesanan ke-7    1612339  2019-01-01        18055  Jakarta Selatan   \n",
       "Pesanan ke-8    1612339  2019-01-01        18055  Jakarta Selatan   \n",
       "Pesanan ke-9    1612339  2019-01-01        18055  Jakarta Selatan   \n",
       "Pesanan ke-10   1612339  2019-01-01        18055  Jakarta Selatan   \n",
       "\n",
       "                  province product_id    brand  quantity  item_price  \n",
       "Pesanan ke-1   DKI Jakarta      P0648  BRAND_C         4     1934000  \n",
       "Pesanan ke-2   DKI Jakarta      P3826  BRAND_V         8      604000  \n",
       "Pesanan ke-3   DKI Jakarta      P1508  BRAND_G        12      747000  \n",
       "Pesanan ke-4   DKI Jakarta      P0520  BRAND_B        12      450000  \n",
       "Pesanan ke-5   DKI Jakarta      P1513  BRAND_G         3     1500000  \n",
       "Pesanan ke-6   DKI Jakarta      P3911  BRAND_V         3     2095000  \n",
       "Pesanan ke-7   DKI Jakarta      P1780  BRAND_H         3     2095000  \n",
       "Pesanan ke-8   DKI Jakarta      P3132  BRAND_S         3     1745000  \n",
       "Pesanan ke-9   DKI Jakarta      P1342  BRAND_F         6     1045000  \n",
       "Pesanan ke-10  DKI Jakarta      P2556  BRAND_P         6     1045000  "
      ]
     },
     "execution_count": 18,
     "metadata": {},
     "output_type": "execute_result"
    }
   ],
   "source": [
    "# Set index baru\n",
    "df.index = [\"Pesanan ke-\" + str(i) for i in range(1,11)]\n",
    "# Cetak data frame dengan index baru\n",
    "df"
   ]
  },
  {
   "cell_type": "code",
   "execution_count": 35,
   "metadata": {},
   "outputs": [],
   "source": [
    "df = pd.read_csv(\"D:/Dataset/sample_csv.csv\")"
   ]
  },
  {
   "cell_type": "code",
   "execution_count": 27,
   "metadata": {},
   "outputs": [
    {
     "data": {
      "text/html": [
       "<div>\n",
       "<style scoped>\n",
       "    .dataframe tbody tr th:only-of-type {\n",
       "        vertical-align: middle;\n",
       "    }\n",
       "\n",
       "    .dataframe tbody tr th {\n",
       "        vertical-align: top;\n",
       "    }\n",
       "\n",
       "    .dataframe thead th {\n",
       "        text-align: right;\n",
       "    }\n",
       "</style>\n",
       "<table border=\"1\" class=\"dataframe\">\n",
       "  <thead>\n",
       "    <tr style=\"text-align: right;\">\n",
       "      <th></th>\n",
       "      <th></th>\n",
       "      <th></th>\n",
       "      <th>customer_id</th>\n",
       "      <th>city</th>\n",
       "      <th>province</th>\n",
       "      <th>brand</th>\n",
       "      <th>quantity</th>\n",
       "      <th>item_price</th>\n",
       "    </tr>\n",
       "    <tr>\n",
       "      <th>order_date</th>\n",
       "      <th>order_id</th>\n",
       "      <th>product_id</th>\n",
       "      <th></th>\n",
       "      <th></th>\n",
       "      <th></th>\n",
       "      <th></th>\n",
       "      <th></th>\n",
       "      <th></th>\n",
       "    </tr>\n",
       "  </thead>\n",
       "  <tbody>\n",
       "    <tr>\n",
       "      <th rowspan=\"2\" valign=\"top\">2019-01-01</th>\n",
       "      <th rowspan=\"2\" valign=\"top\">1612339</th>\n",
       "      <th>P2154</th>\n",
       "      <td>18055</td>\n",
       "      <td>Jakarta Selatan</td>\n",
       "      <td>DKI Jakarta</td>\n",
       "      <td>BRAND_M</td>\n",
       "      <td>4</td>\n",
       "      <td>1745000</td>\n",
       "    </tr>\n",
       "    <tr>\n",
       "      <th>P2159</th>\n",
       "      <td>18055</td>\n",
       "      <td>Jakarta Selatan</td>\n",
       "      <td>DKI Jakarta</td>\n",
       "      <td>BRAND_M</td>\n",
       "      <td>24</td>\n",
       "      <td>310000</td>\n",
       "    </tr>\n",
       "  </tbody>\n",
       "</table>\n",
       "</div>"
      ],
      "text/plain": [
       "                                customer_id             city     province  \\\n",
       "order_date order_id product_id                                              \n",
       "2019-01-01 1612339  P2154             18055  Jakarta Selatan  DKI Jakarta   \n",
       "                    P2159             18055  Jakarta Selatan  DKI Jakarta   \n",
       "\n",
       "                                  brand  quantity  item_price  \n",
       "order_date order_id product_id                                 \n",
       "2019-01-01 1612339  P2154       BRAND_M         4     1745000  \n",
       "                    P2159       BRAND_M        24      310000  "
      ]
     },
     "execution_count": 27,
     "metadata": {},
     "output_type": "execute_result"
    }
   ],
   "source": [
    "# Set index dari df \n",
    "df = df.set_index([\"order_date\",\"order_id\",\"product_id\"])\n",
    "# Slice sesuai intruksi\n",
    "df_slice = df.loc[(\"2019-01-01\",1612339,[\"P2154\",\"P2159\"]),:]\n",
    "df_slice"
   ]
  },
  {
   "cell_type": "code",
   "execution_count": 34,
   "metadata": {},
   "outputs": [
    {
     "data": {
      "text/plain": [
       "order_id                int64\n",
       "order_date     datetime64[ns]\n",
       "customer_id             int64\n",
       "city                   object\n",
       "province               object\n",
       "product_id             object\n",
       "brand                  object\n",
       "quantity                int64\n",
       "item_price              int64\n",
       "dtype: object"
      ]
     },
     "execution_count": 34,
     "metadata": {},
     "output_type": "execute_result"
    }
   ],
   "source": [
    "# Ubah tipe data kolom order_date menjadi datetime\n",
    "df[\"order_date\"] = pd.to_datetime(df[\"order_date\"])\n",
    "# Tampilkan tipe data df setelah transformasi\n",
    "df.dtypes"
   ]
  },
  {
   "cell_type": "code",
   "execution_count": 36,
   "metadata": {},
   "outputs": [
    {
     "name": "stdout",
     "output_type": "stream",
     "text": [
      "Tipe data df:\n",
      " order_id        int64\n",
      "order_date     object\n",
      "customer_id     int64\n",
      "city           object\n",
      "province       object\n",
      "product_id     object\n",
      "brand          object\n",
      "quantity        int64\n",
      "item_price      int64\n",
      "dtype: object\n",
      "\n",
      "Tipe data df setelah transformasi:\n",
      " order_id          int64\n",
      "order_date       object\n",
      "customer_id       int64\n",
      "city           category\n",
      "province         object\n",
      "product_id       object\n",
      "brand            object\n",
      "quantity        float32\n",
      "item_price        int64\n",
      "dtype: object\n"
     ]
    }
   ],
   "source": [
    "# Tampilkan tipe data\n",
    "print(\"Tipe data df:\\n\", df.dtypes)\n",
    "# Ubah tipe data kolom quantity menjadi tipe data numerik float\n",
    "df[\"quantity\"] = pd.to_numeric(df[\"quantity\"], downcast=\"float\")\n",
    "# Ubah tipe data kolom city menjadi tipe data category\n",
    "df[\"city\"] = df[\"city\"].astype(\"category\")\n",
    "# Tampilkan tipe data df setelah transformasi\n",
    "print(\"\\nTipe data df setelah transformasi:\\n\", df.dtypes)"
   ]
  },
  {
   "cell_type": "code",
   "execution_count": 49,
   "metadata": {},
   "outputs": [
    {
     "name": "stdout",
     "output_type": "stream",
     "text": [
      "\n",
      "Jumlah missing value per kolom:\n",
      " province_state      40\n",
      "country_region       0\n",
      "date                 0\n",
      "latitude           126\n",
      "longitude          126\n",
      "location_geom      126\n",
      "confirmed            0\n",
      "deaths               1\n",
      "recovered            1\n",
      "active              51\n",
      "fips                51\n",
      "admin2             158\n",
      "combined_key      1000\n",
      "dtype: int64\n"
     ]
    }
   ],
   "source": [
    "# Baca file \"public data covid19 jhu csse eu.csv\"\n",
    "df = pd.read_csv(\"D:/Dataset/Data Covid19.csv\")\n",
    "# Cetak jumlah missing value di setiap kolom\n",
    "mv = df.isna().sum()\n",
    "print(\"\\nJumlah missing value per kolom:\\n\", mv)"
   ]
  },
  {
   "cell_type": "code",
   "execution_count": 40,
   "metadata": {},
   "outputs": [
    {
     "data": {
      "text/html": [
       "<div>\n",
       "<style scoped>\n",
       "    .dataframe tbody tr th:only-of-type {\n",
       "        vertical-align: middle;\n",
       "    }\n",
       "\n",
       "    .dataframe tbody tr th {\n",
       "        vertical-align: top;\n",
       "    }\n",
       "\n",
       "    .dataframe thead th {\n",
       "        text-align: right;\n",
       "    }\n",
       "</style>\n",
       "<table border=\"1\" class=\"dataframe\">\n",
       "  <thead>\n",
       "    <tr style=\"text-align: right;\">\n",
       "      <th></th>\n",
       "      <th>province_state</th>\n",
       "      <th>country_region</th>\n",
       "      <th>date</th>\n",
       "      <th>latitude</th>\n",
       "      <th>longitude</th>\n",
       "      <th>location_geom</th>\n",
       "      <th>confirmed</th>\n",
       "      <th>deaths</th>\n",
       "      <th>recovered</th>\n",
       "      <th>active</th>\n",
       "      <th>fips</th>\n",
       "      <th>admin2</th>\n",
       "      <th>combined_key</th>\n",
       "    </tr>\n",
       "  </thead>\n",
       "  <tbody>\n",
       "    <tr>\n",
       "      <th>0</th>\n",
       "      <td>NaN</td>\n",
       "      <td>UK</td>\n",
       "      <td>01-02-20</td>\n",
       "      <td>NaN</td>\n",
       "      <td>NaN</td>\n",
       "      <td>NaN</td>\n",
       "      <td>2</td>\n",
       "      <td>0.0</td>\n",
       "      <td>0.0</td>\n",
       "      <td>NaN</td>\n",
       "      <td>NaN</td>\n",
       "      <td>NaN</td>\n",
       "      <td>NaN</td>\n",
       "    </tr>\n",
       "    <tr>\n",
       "      <th>1</th>\n",
       "      <td>NaN</td>\n",
       "      <td>UK</td>\n",
       "      <td>18-02-20</td>\n",
       "      <td>NaN</td>\n",
       "      <td>NaN</td>\n",
       "      <td>NaN</td>\n",
       "      <td>9</td>\n",
       "      <td>0.0</td>\n",
       "      <td>8.0</td>\n",
       "      <td>NaN</td>\n",
       "      <td>NaN</td>\n",
       "      <td>NaN</td>\n",
       "      <td>NaN</td>\n",
       "    </tr>\n",
       "    <tr>\n",
       "      <th>2</th>\n",
       "      <td>NaN</td>\n",
       "      <td>UK</td>\n",
       "      <td>17-02-20</td>\n",
       "      <td>NaN</td>\n",
       "      <td>NaN</td>\n",
       "      <td>NaN</td>\n",
       "      <td>9</td>\n",
       "      <td>0.0</td>\n",
       "      <td>8.0</td>\n",
       "      <td>NaN</td>\n",
       "      <td>NaN</td>\n",
       "      <td>NaN</td>\n",
       "      <td>NaN</td>\n",
       "    </tr>\n",
       "    <tr>\n",
       "      <th>3</th>\n",
       "      <td>NaN</td>\n",
       "      <td>UK</td>\n",
       "      <td>31-01-20</td>\n",
       "      <td>NaN</td>\n",
       "      <td>NaN</td>\n",
       "      <td>NaN</td>\n",
       "      <td>2</td>\n",
       "      <td>NaN</td>\n",
       "      <td>NaN</td>\n",
       "      <td>NaN</td>\n",
       "      <td>NaN</td>\n",
       "      <td>NaN</td>\n",
       "      <td>NaN</td>\n",
       "    </tr>\n",
       "    <tr>\n",
       "      <th>4</th>\n",
       "      <td>NaN</td>\n",
       "      <td>UK</td>\n",
       "      <td>19-02-20</td>\n",
       "      <td>NaN</td>\n",
       "      <td>NaN</td>\n",
       "      <td>NaN</td>\n",
       "      <td>9</td>\n",
       "      <td>0.0</td>\n",
       "      <td>8.0</td>\n",
       "      <td>NaN</td>\n",
       "      <td>NaN</td>\n",
       "      <td>NaN</td>\n",
       "      <td>NaN</td>\n",
       "    </tr>\n",
       "    <tr>\n",
       "      <th>5</th>\n",
       "      <td>NaN</td>\n",
       "      <td>UK</td>\n",
       "      <td>22-02-20</td>\n",
       "      <td>NaN</td>\n",
       "      <td>NaN</td>\n",
       "      <td>NaN</td>\n",
       "      <td>9</td>\n",
       "      <td>0.0</td>\n",
       "      <td>8.0</td>\n",
       "      <td>NaN</td>\n",
       "      <td>NaN</td>\n",
       "      <td>NaN</td>\n",
       "      <td>NaN</td>\n",
       "    </tr>\n",
       "    <tr>\n",
       "      <th>6</th>\n",
       "      <td>NaN</td>\n",
       "      <td>UK</td>\n",
       "      <td>25-02-20</td>\n",
       "      <td>NaN</td>\n",
       "      <td>NaN</td>\n",
       "      <td>NaN</td>\n",
       "      <td>13</td>\n",
       "      <td>0.0</td>\n",
       "      <td>8.0</td>\n",
       "      <td>NaN</td>\n",
       "      <td>NaN</td>\n",
       "      <td>NaN</td>\n",
       "      <td>NaN</td>\n",
       "    </tr>\n",
       "  </tbody>\n",
       "</table>\n",
       "</div>"
      ],
      "text/plain": [
       "  province_state country_region      date  latitude  longitude location_geom  \\\n",
       "0            NaN             UK  01-02-20       NaN        NaN           NaN   \n",
       "1            NaN             UK  18-02-20       NaN        NaN           NaN   \n",
       "2            NaN             UK  17-02-20       NaN        NaN           NaN   \n",
       "3            NaN             UK  31-01-20       NaN        NaN           NaN   \n",
       "4            NaN             UK  19-02-20       NaN        NaN           NaN   \n",
       "5            NaN             UK  22-02-20       NaN        NaN           NaN   \n",
       "6            NaN             UK  25-02-20       NaN        NaN           NaN   \n",
       "\n",
       "   confirmed  deaths  recovered  active  fips admin2  combined_key  \n",
       "0          2     0.0        0.0     NaN   NaN    NaN           NaN  \n",
       "1          9     0.0        8.0     NaN   NaN    NaN           NaN  \n",
       "2          9     0.0        8.0     NaN   NaN    NaN           NaN  \n",
       "3          2     NaN        NaN     NaN   NaN    NaN           NaN  \n",
       "4          9     0.0        8.0     NaN   NaN    NaN           NaN  \n",
       "5          9     0.0        8.0     NaN   NaN    NaN           NaN  \n",
       "6         13     0.0        8.0     NaN   NaN    NaN           NaN  "
      ]
     },
     "execution_count": 40,
     "metadata": {},
     "output_type": "execute_result"
    }
   ],
   "source": [
    "df.head(7)"
   ]
  },
  {
   "cell_type": "code",
   "execution_count": 41,
   "metadata": {},
   "outputs": [
    {
     "data": {
      "text/plain": [
       "(1000, 13)"
      ]
     },
     "execution_count": 41,
     "metadata": {},
     "output_type": "execute_result"
    }
   ],
   "source": [
    "df.shape"
   ]
  },
  {
   "cell_type": "code",
   "execution_count": 42,
   "metadata": {},
   "outputs": [
    {
     "name": "stdout",
     "output_type": "stream",
     "text": [
      "Ukuran awal df: 1000 baris, 13 kolom.\n",
      "Ukuran df setelah buang kolom dengan seluruh data missing: 1000 baris, 12 kolom.\n",
      "Ukuran df setelah dibuang baris yang memiliki sekurangnya 1 missing value: 746 baris, 12 kolom.\n"
     ]
    }
   ],
   "source": [
    "# Cetak ukuran awal dataframe\n",
    "print(\"Ukuran awal df: %d baris, %d kolom.\" % df.shape)\n",
    "# Drop kolom yang seluruhnya missing value dan cetak ukurannya\n",
    "df = df.dropna(axis=1, how=\"all\")\n",
    "print(\"Ukuran df setelah buang kolom dengan seluruh data missing: %d baris, %d kolom.\" % df.shape)\n",
    "# Drop baris jika ada satu saja data yang missing dan cetak ukurannya\n",
    "df = df.dropna(axis=0, how=\"any\")\n",
    "print(\"Ukuran df setelah dibuang baris yang memiliki sekurangnya 1 missing value: %d baris, %d kolom.\" % df.shape)"
   ]
  },
  {
   "cell_type": "code",
   "execution_count": 45,
   "metadata": {},
   "outputs": [
    {
     "name": "stdout",
     "output_type": "stream",
     "text": [
      "Unique value awal:\n",
      " [nan 'US' 'Guam' 'Iowa']\n",
      "Unique value setelah fillna:\n",
      " ['unknown_province_state' 'US' 'Guam' 'Iowa']\n"
     ]
    }
   ],
   "source": [
    "# Cetak unique value pada kolom province_state\n",
    "print(\"Unique value awal:\\n\", df[\"province_state\"].unique())\n",
    "# Ganti missing value dengan string \"unknown_province_state\"\n",
    "df[\"province_state\"] = df[\"province_state\"].fillna(\"unknown_province_state\")\n",
    "# Cetak kembali unique value pada kolom province_state\n",
    "print(\"Unique value setelah fillna:\\n\", df[\"province_state\"].unique())"
   ]
  },
  {
   "cell_type": "code",
   "execution_count": 50,
   "metadata": {},
   "outputs": [
    {
     "name": "stdout",
     "output_type": "stream",
     "text": [
      "Jumlah missing value: 51\n",
      "Jumlah missing value setelah diisi dengan median: 0\n"
     ]
    }
   ],
   "source": [
    "# Cetak Missing Value Kolom Active\n",
    "print(\"Jumlah missing value:\", df[\"active\"].isna().sum())\n",
    "# Isi Missing Value dengan Median\n",
    "df[\"active\"] = df[\"active\"].fillna(df[\"active\"].median())\n",
    "# Cek kolom active setelah diisi dengan median\n",
    "print(\"Jumlah missing value setelah diisi dengan median:\", df[\"active\"].isna().sum())"
   ]
  },
  {
   "cell_type": "code",
   "execution_count": 52,
   "metadata": {},
   "outputs": [
    {
     "data": {
      "text/plain": [
       "province_state      40\n",
       "country_region       0\n",
       "date                 0\n",
       "latitude           126\n",
       "longitude          126\n",
       "location_geom      126\n",
       "confirmed            0\n",
       "deaths               1\n",
       "recovered            1\n",
       "active               0\n",
       "fips                51\n",
       "admin2             158\n",
       "combined_key      1000\n",
       "dtype: int64"
      ]
     },
     "execution_count": 52,
     "metadata": {},
     "output_type": "execute_result"
    }
   ],
   "source": [
    "df.isna().sum()"
   ]
  },
  {
   "cell_type": "code",
   "execution_count": null,
   "metadata": {},
   "outputs": [],
   "source": []
  }
 ],
 "metadata": {
  "kernelspec": {
   "display_name": "Python 3",
   "language": "python",
   "name": "python3"
  },
  "language_info": {
   "codemirror_mode": {
    "name": "ipython",
    "version": 3
   },
   "file_extension": ".py",
   "mimetype": "text/x-python",
   "name": "python",
   "nbconvert_exporter": "python",
   "pygments_lexer": "ipython3",
   "version": "3.8.3"
  },
  "toc": {
   "base_numbering": 1,
   "nav_menu": {},
   "number_sections": true,
   "sideBar": true,
   "skip_h1_title": false,
   "title_cell": "Table of Contents",
   "title_sidebar": "Contents",
   "toc_cell": false,
   "toc_position": {},
   "toc_section_display": true,
   "toc_window_display": false
  }
 },
 "nbformat": 4,
 "nbformat_minor": 4
}
