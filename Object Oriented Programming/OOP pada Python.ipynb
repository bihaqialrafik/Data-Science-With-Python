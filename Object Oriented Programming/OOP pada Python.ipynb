{
 "cells": [
  {
   "cell_type": "markdown",
   "metadata": {},
   "source": [
    "# Berkenalan dengan Pbject Oriented Programming"
   ]
  },
  {
   "cell_type": "markdown",
   "metadata": {},
   "source": [
    "## <font color = purple> Class Dan Object </font>"
   ]
  },
  {
   "cell_type": "code",
   "execution_count": 17,
   "metadata": {},
   "outputs": [
    {
     "name": "stdout",
     "output_type": "stream",
     "text": [
      "PT.Maju Mundur\n"
     ]
    }
   ],
   "source": [
    "# Definisikan class Karyawan\n",
    "class Karyawan:\n",
    "    nama_perusahaan = \"PT.Maju Mundur\"\n",
    "    \n",
    "# Inisiasi object yang dinyatakan dalam variabel ALi dan Siti\n",
    "Ali = Karyawan()\n",
    "Siti = Karyawan()\n",
    "\n",
    "# Cetak nama perusahaan melalui penggunaan keyword __class__\n",
    "# pada class attribute nama_perusahaan\n",
    "print(Ali.__class__.nama_perusahaan)"
   ]
  },
  {
   "cell_type": "markdown",
   "metadata": {},
   "source": [
    "Mengubah class attribute pada salah satu objek"
   ]
  },
  {
   "cell_type": "code",
   "execution_count": 18,
   "metadata": {},
   "outputs": [
    {
     "name": "stdout",
     "output_type": "stream",
     "text": [
      "PT.Maju Terus\n",
      "PT.Maju Terus\n"
     ]
    }
   ],
   "source": [
    "# Ubah nama_perusahaan menjadi 'PT.Maju Terus'\n",
    "Siti.__class__.nama_perusahaan = \"PT.Maju Terus\"\n",
    "# Cetak nama_perusahaan objek Ali dan Siti\n",
    "print(Ali.__class__.nama_perusahaan)\n",
    "print(Siti.__class__.nama_perusahaan)"
   ]
  },
  {
   "cell_type": "markdown",
   "metadata": {},
   "source": [
    "## <font color = purple>Membuat Instance Attribute</font>\n",
    "karena setiap karyawan pasti memiliki nama, usia dan pendapatan yang berbeda."
   ]
  },
  {
   "cell_type": "code",
   "execution_count": 21,
   "metadata": {},
   "outputs": [],
   "source": [
    "# Definisikan class Karyawan\n",
    "class Karyawan:\n",
    "    nama_perusahaan = 'PT.Komodo'\n",
    "    def __init__(self, nama, usia, pendapatan):\n",
    "        self.nama = nama\n",
    "        self.usia = usia\n",
    "        self.pendapatan = pendapatan"
   ]
  },
  {
   "cell_type": "code",
   "execution_count": 23,
   "metadata": {},
   "outputs": [
    {
     "name": "stdout",
     "output_type": "stream",
     "text": [
      "Udin, Usia: 25, Pendapatan 8500000\n",
      "Ucup, Usia: 28, Pendapatan 12500000\n"
     ]
    }
   ],
   "source": [
    "# Buat object bernama Udin dan Ucup\n",
    "udin = Karyawan('Udin', 25, 8500000)\n",
    "ucup = Karyawan('Ucup', 28, 12500000)\n",
    "# Cetak objek bernama Udin\n",
    "print(udin.nama + ', Usia: ' + str(udin.usia) + ', Pendapatan ' + str(udin.pendapatan))\n",
    "# Cetak objek bernama Ucup\n",
    "print(ucup.nama + ', Usia: ' + str(ucup.usia) + ', Pendapatan ' + str(ucup.pendapatan))"
   ]
  },
  {
   "cell_type": "markdown",
   "metadata": {},
   "source": [
    "### Contoh Lain\n",
    "dengan menambahkan *function* IF untuk menambah pendapatan karyawan bisa dibilang bonus jika usianya diatas 30 tahun"
   ]
  },
  {
   "cell_type": "code",
   "execution_count": 26,
   "metadata": {},
   "outputs": [
    {
     "name": "stdout",
     "output_type": "stream",
     "text": [
      "17000000\n"
     ]
    }
   ],
   "source": [
    "class Karyawan: \n",
    "    nama_perusahaan = 'PT.Makmur Jaya'\n",
    "    def __init__(self, nama, usia, pendapatan):\n",
    "        self.nama = nama\n",
    "        self.usia = usia\n",
    "        self.pendapatan = pendapatan\n",
    "        if usia > 30:\n",
    "            self.pendapatan += 1500000\n",
    "\n",
    "karyawan_1 = Karyawan('Riska', 35, 7500000)\n",
    "karyawan_2 = Karyawan('Dino', 30, 8000000)\n",
    "\n",
    "total_pengeluaran = karyawan_1.pendapatan + karyawan_2.pendapatan \n",
    "print(total_pengeluaran)"
   ]
  },
  {
   "cell_type": "markdown",
   "metadata": {},
   "source": [
    "Kita juga bisa bermain-main dengan memodifikasi dari contoh diatas"
   ]
  },
  {
   "cell_type": "code",
   "execution_count": 1,
   "metadata": {},
   "outputs": [
    {
     "name": "stdout",
     "output_type": "stream",
     "text": [
      "11000000\n"
     ]
    }
   ],
   "source": [
    "class Karyawan:\n",
    "    nama_perusahaan = 'ABC'\n",
    "    tunjangan_transportasi = 500000\n",
    "    def __init__(self, nama, usia, pendapatan):\n",
    "        self.nama = nama\n",
    "        self.usia = usia\n",
    "        self.pendapatan = pendapatan\n",
    "\n",
    "karyawan_1 = Karyawan('Budi', 35, 5000000)\n",
    "karyawan_2 = Karyawan('Didi', 30, 5000000)\n",
    "karyawan_1.__class__.nama_perusahaan = 1000000\n",
    "\n",
    "total_pengeluaran = karyawan_1.__class__.tunjangan_transportasi\n",
    "total_pengeluaran += karyawan_2. __class__.tunjangan_transportasi\n",
    "total_pengeluaran += karyawan_1.pendapatan\n",
    "total_pengeluaran += karyawan_2.pendapatan\n",
    "print(total_pengeluaran)"
   ]
  },
  {
   "cell_type": "markdown",
   "metadata": {},
   "source": [
    "#### Contoh Lainya"
   ]
  },
  {
   "cell_type": "code",
   "execution_count": 31,
   "metadata": {},
   "outputs": [],
   "source": [
    "# Definisikan class Karyawan berikut dengan attribut dan fungsinya\n",
    "class Karyawan:\n",
    "    nama_perusahaan = 'ABC'\n",
    "    insentif_lembur = 250000\n",
    "    def __init__(self, nama, usia, pendapatan):\n",
    "        self.nama = nama\n",
    "        self.usia = usia\n",
    "        self.pendapatan = pendapatan\n",
    "        self.pendapatan_tambahan = 0\n",
    "    def lembur(self):\n",
    "        self.pendapatan_tambahan += self.insentif_lembur\n",
    "    def tambahan_proyek(self, insentif_proyek):\n",
    "        self.pendapatan_tambahan += insentif_proyek\n",
    "    def total_pendapatan(self):\n",
    "        return self.pendapatan + self.pendapatan_tambahan"
   ]
  },
  {
   "cell_type": "code",
   "execution_count": 32,
   "metadata": {},
   "outputs": [
    {
     "name": "stdout",
     "output_type": "stream",
     "text": [
      "Pendapatan Total Aksara: 8750000\n",
      "Pendapatan Total Senja: 15000000\n"
     ]
    }
   ],
   "source": [
    "# Buat object dari karwayan bernama Aksara dan Senja\n",
    "aksara = Karyawan('Aksara', 25, 8500000)\n",
    "senja = Karyawan('Senja', 28, 12500000)\n",
    "# Aksara melaksanakan lembur\n",
    "aksara.lembur()\n",
    "# Senja memiliki proyek tambahan\n",
    "senja.tambahan_proyek(2500000)\n",
    "# Cetak pendapatan total Aksara dan Senja\n",
    "print('Pendapatan Total Aksara: ' + str(aksara.total_pendapatan()))\n",
    "print('Pendapatan Total Senja: ' +str(senja.total_pendapatan()))"
   ]
  },
  {
   "cell_type": "code",
   "execution_count": 6,
   "metadata": {},
   "outputs": [],
   "source": [
    "# Definisikan class Karyawan\n",
    "class Karyawan:\n",
    "    def __init__(self, nama, usia, pendapatan, insentif_lembur): \n",
    "        self.nama = nama\n",
    "        self.usia = usia\n",
    "        self.pendapatan = pendapatan \n",
    "        self.pendapatan_tambahan = 0\n",
    "        self.insentif_lembur = insentif_lembur \n",
    "    def lembur(self):\n",
    "        self.pendapatan_tambahan += self.insentif_lembur \n",
    "    def tambahan_proyek(self, jumlah_tambahan):\n",
    "        self.pendapatan_tambahan += jumlah_tambahan \n",
    "    def total_pendapatan(self):\n",
    "        return self.pendapatan + self.pendapatan_tambahan "
   ]
  },
  {
   "cell_type": "code",
   "execution_count": 7,
   "metadata": {},
   "outputs": [],
   "source": [
    "# Definisikan class Perusahaan\n",
    "class Perusahaan:\n",
    "    def __init__(self, nama, alamat, nomor_telepon): \n",
    "        self.nama = nama\n",
    "        self.alamat = alamat \n",
    "        self.nomor_telepon = nomor_telepon\n",
    "        self.list_karyawan = []\n",
    "    def aktifkan_karyawan(self, karyawan): \n",
    "        self.list_karyawan.append(karyawan)\n",
    "    def nonaktifkan_karyawan(self, nama_karyawan): \n",
    "        karyawan_nonaktif = None\n",
    "        for karyawan in self.list_karyawan:\n",
    "            if karyawan.nama == nama_karyawan: \n",
    "                karyawan_nonaktif = karyawan \n",
    "                break\n",
    "        if karyawan_nonaktif is not None: \n",
    "            self.list_karyawan.remove(karyawan_nonaktif)"
   ]
  },
  {
   "cell_type": "code",
   "execution_count": 20,
   "metadata": {},
   "outputs": [],
   "source": [
    "# Definisikan perusahaan\n",
    "perusahaan = Perusahaan('ABC', 'Jl. Jendral Sudirman, Blok 11', '(021) 95205XX')\n",
    "# Definisikan nama-nama karyawan\n",
    "karyawan_1 = Karyawan('Ani', 25, 8500000, 100000)\n",
    "karyawan_2 = Karyawan('Budi', 28, 12000000, 150000)\n",
    "karyawan_3 = Karyawan('Cici', 30, 15000000, 200000)\n",
    "# Aktifkan karyawan di perusahaan ABC\n",
    "perusahaan.aktifkan_karyawan(karyawan_1) \n",
    "perusahaan.aktifkan_karyawan(karyawan_2) \n",
    "perusahaan.aktifkan_karyawan(karyawan_3)"
   ]
  },
  {
   "cell_type": "markdown",
   "metadata": {},
   "source": [
    "## Encapsulation"
   ]
  },
  {
   "cell_type": "code",
   "execution_count": 29,
   "metadata": {},
   "outputs": [
    {
     "name": "stdout",
     "output_type": "stream",
     "text": [
      "ABC\n"
     ]
    }
   ],
   "source": [
    "# Definisikan class Karyawan\n",
    "class Karyawan: \n",
    "    nama_perusahaan = 'ABC' \n",
    "    __insentif_lembur = 250000\n",
    "    def __init__(self, nama, usia, pendapatan): \n",
    "        self.__nama = nama\n",
    "        self.__usia = usia \n",
    "        self.__pendapatan = pendapatan \n",
    "        self.__pendapatan_tambahan = 0\n",
    "    def lembur(self):\n",
    "        self.__pendapatan_tambahan += self.__insentif_lembur \n",
    "    def tambahan_proyek(self, insentif_proyek):\n",
    "        self.__pendapatan_tambahan +=insentif_proyek \n",
    "    def total_pendapatan(self):\n",
    "        return self.__pendapatan + self.__pendapatan_tambahan\n",
    "# Buat objek karyawan bernama Aksara\n",
    "aksara = Karyawan('Aksara', 25, 8500000)\n",
    "# Akses ke attribute class Karyawan\n",
    "print(aksara.__class__.nama_perusahaan)"
   ]
  },
  {
   "cell_type": "markdown",
   "metadata": {},
   "source": [
    "Syntax diatas akan berjalan mulus karena nama_perusahaan adalah ***public attribute*** yang memungkinkan kita untuk mengakses diluat class<br>\n",
    "Sekarang kita coba akses nama yng merupakan private ***attribute*** di luar class maka anak menghasilkan pesan error."
   ]
  },
  {
   "cell_type": "code",
   "execution_count": 26,
   "metadata": {},
   "outputs": [
    {
     "ename": "IndentationError",
     "evalue": "unexpected indent (<ipython-input-26-b46465f08e35>, line 2)",
     "output_type": "error",
     "traceback": [
      "\u001b[1;36m  File \u001b[1;32m\"<ipython-input-26-b46465f08e35>\"\u001b[1;36m, line \u001b[1;32m2\u001b[0m\n\u001b[1;33m    print(aksara.__usia)\u001b[0m\n\u001b[1;37m    ^\u001b[0m\n\u001b[1;31mIndentationError\u001b[0m\u001b[1;31m:\u001b[0m unexpected indent\n"
     ]
    }
   ],
   "source": [
    "# Akan menimbulkan error ketika di run\n",
    "print(aksara.__usia)"
   ]
  },
  {
   "cell_type": "markdown",
   "metadata": {},
   "source": [
    "Ketika kita menjalankan dalam class terssebut maka akan berhasil"
   ]
  },
  {
   "cell_type": "code",
   "execution_count": 35,
   "metadata": {},
   "outputs": [
    {
     "name": "stdout",
     "output_type": "stream",
     "text": [
      "Aksara 25 8500000\n"
     ]
    }
   ],
   "source": [
    "# Definisikan class Karyawan\n",
    "class Karyawan: \n",
    "    nama_perusahaan = 'ABC' \n",
    "    __insentif_lembur = 250000\n",
    "    def __init__(self, nama, usia, pendapatan): \n",
    "        self.__nama = nama\n",
    "        self.__usia = usia \n",
    "        self.__pendapatan = pendapatan \n",
    "        self.__pendapatan_tambahan = 0\n",
    "    def lembur(self):\n",
    "        self.__pendapatan_tambahan += self.__insentif_lembur \n",
    "    def tambahan_proyek(self, insentif_proyek):\n",
    "        self.__pendapatan_tambahan +=insentif_proyek \n",
    "    def total_pendapatan(self):\n",
    "        return self.__pendapatan + self.__pendapatan_tambahan\n",
    "## ketika dijalankan dalam class\n",
    "    print(aksara.__nama, aksara.__usia, aksara.__pendapatan )"
   ]
  },
  {
   "cell_type": "markdown",
   "metadata": {},
   "source": [
    "## Inheritance\n",
    "Melalui konsep inheritance, sebuah class baru dapat memiliki atribut dan fungsi pada class yang sebelumnya telah didefinisikan.<br> Pada konsep inheritance, atribut/fungsi yang akan diwariskan hanyalah atribut/fungsi dengan access modifier public, <br>atribut/fungsi dengan access modifier private tidak akan diturunkan."
   ]
  },
  {
   "cell_type": "code",
   "execution_count": 48,
   "metadata": {},
   "outputs": [],
   "source": [
    "# Definisikan class Karyawan (sebagai base class)\n",
    "class Karyawan: \n",
    "    nama_perusahaan = 'ABC' \n",
    "    insentif_lembur = 250000\n",
    "    def __init__(self, nama, usia, pendapatan): \n",
    "        self.nama = nama\n",
    "        self.usia = usia \n",
    "        self.pendapatan = pendapatan \n",
    "        self.pendapatan_tambahan = 0\n",
    "    def lembur(self):\n",
    "        self.pendapatan_tambahan += self.insentif_lembur \n",
    "    def tambahan_proyek(self, insentif_proyek):\n",
    "        self.pendapatan_tambahan += insentif_proyek \n",
    "    def total_pendapatan(self):\n",
    "        return self.pendapatan + self.pendapatan_tambahan"
   ]
  },
  {
   "cell_type": "code",
   "execution_count": 56,
   "metadata": {},
   "outputs": [],
   "source": [
    "# Buat class turunan (sebagai inherit class) dari class karyawan, \n",
    "# yaitu class AnalisData\n",
    "class AnalisData(Karyawan):\n",
    "    def __init__(self, nama, usia, pendapatan):\n",
    "    # melakukan pemanggilan konstruktur class Karyawan \n",
    "        super().__init__(nama, usia,pendapatan)\n",
    "# Buat kembali class turunan (sebagai inherit class) dari class karyawan,  \n",
    "# yaitu class IlmuwanData"
   ]
  },
  {
   "cell_type": "code",
   "execution_count": 57,
   "metadata": {},
   "outputs": [],
   "source": [
    "class IlmuwanData(Karyawan):\n",
    "    def __init__(self, nama, usia, pendapatan):\n",
    "        # melakukan pemanggilan konstruktur class Karyawan \n",
    "        super().__init__(nama, usia,pendapatan)"
   ]
  },
  {
   "cell_type": "code",
   "execution_count": 59,
   "metadata": {},
   "outputs": [
    {
     "name": "stdout",
     "output_type": "stream",
     "text": [
      "8750000\n"
     ]
    }
   ],
   "source": [
    "# Buat objek karyawan yang bekerja sebagai AnalisData\n",
    "aksara = AnalisData('Aksara', 25, 8500000)\n",
    "aksara.lembur()\n",
    "print(aksara.total_pendapatan())"
   ]
  },
  {
   "cell_type": "code",
   "execution_count": 60,
   "metadata": {},
   "outputs": [
    {
     "name": "stdout",
     "output_type": "stream",
     "text": [
      "15000000\n"
     ]
    }
   ],
   "source": [
    "# Buat objek karyawan yang bekerja sebagai IlmuwanData\n",
    "senja = IlmuwanData('Senja', 28, 13000000)\n",
    "senja.tambahan_proyek(2000000)\n",
    "print(senja.total_pendapatan())"
   ]
  },
  {
   "cell_type": "markdown",
   "metadata": {},
   "source": [
    "Selanjutnya aku akan memodifikasi atribut/fungsi child class yang diwarisi oleh parent class<br> dengan mendefinisikan ulang atribut/fungsi menggunakan nama yang sama."
   ]
  },
  {
   "cell_type": "code",
   "execution_count": 66,
   "metadata": {},
   "outputs": [],
   "source": [
    "# Buat kembali class turunan (sebagai inherit class) dari class karyawan,  \n",
    "# yaitu class IlmuwanData\n",
    "class IlmuwanData(Karyawan):\n",
    "    # mengubah atribut insentif_lembur yang digunakan pada fungsi lembur()\n",
    "    insentif_lembur = 500000\n",
    "    def __init__(self, nama, usia, pendapatan): \n",
    "        super().__init__(nama, usia, pendapatan)"
   ]
  },
  {
   "cell_type": "code",
   "execution_count": 67,
   "metadata": {},
   "outputs": [
    {
     "name": "stdout",
     "output_type": "stream",
     "text": [
      "13500000\n"
     ]
    }
   ],
   "source": [
    "# Buat objek karyawan yang bekerja sebagai IlmuwanData\n",
    "senja = IlmuwanData('Senja', 28, 13000000)\n",
    "senja.lembur()\n",
    "print(senja.total_pendapatan())"
   ]
  },
  {
   "cell_type": "markdown",
   "metadata": {},
   "source": [
    "## Polymorphism\n",
    "Jika mendefinisikan ulang nilai dari atribut yang diwarisi oleh parent class menggunakan ***Inheritance***,<br> kita dapat mendefinisikan ulang fungsi yang telah diwarisi oleh parent class dengan konsep ***Polymorphism***."
   ]
  },
  {
   "cell_type": "code",
   "execution_count": 70,
   "metadata": {},
   "outputs": [
    {
     "name": "stdout",
     "output_type": "stream",
     "text": [
      "9350000\n"
     ]
    }
   ],
   "source": [
    "# Buat class turunan (sebagai inherit class) dari class karyawan, \n",
    "# yaitu class AnalisData\n",
    "class AnalisData(Karyawan):\n",
    "    def __init__(self, nama, usia, pendapatan):\n",
    "    # melakukan pemanggilan konstruktur class Karyawan \n",
    "        super().__init__(nama, usia, pendapatan)\n",
    "    # menerapkan polymorphism dengan mendefinisikan kembali fungsi \n",
    "    # lembur() pada class AnalisData \n",
    "    def lembur(self):\n",
    "        # pendapatan tambahan pada class AnalisData sebesar\n",
    "        # 10 % dari pendapatannya.\n",
    "        self.pendapatan_tambahan += int(self.pendapatan * 0.1)\n",
    "# Buat objek karyawan yang bekerja sebagai AnalisData\n",
    "aksara = AnalisData('Aksara', 25, 8500000)\n",
    "aksara.lembur()\n",
    "print(aksara.total_pendapatan())"
   ]
  },
  {
   "cell_type": "code",
   "execution_count": 103,
   "metadata": {},
   "outputs": [
    {
     "name": "stdout",
     "output_type": "stream",
     "text": [
      "9175000\n"
     ]
    }
   ],
   "source": [
    "# Buat class turunan (sebagai inherit class) dari class karyawan, \n",
    "# yaitu class AnalisData\n",
    "class AnalisData(Karyawan):\n",
    "    def __init__(self, nama, usia, pendapatan): \n",
    "        super().__init__ (nama, usia, pendapatan)\n",
    "    # mendefinisikan kembali fungsi lembur() pada class AnalisData \n",
    "    def lembur(self):\n",
    "        # memanggil fungsi lembur pada class Karyawan \n",
    "        super().lembur()\n",
    "        # pendapatan tambahan pada class AnalisData sebesar\n",
    "        # 5 % dari pendapatannya.\n",
    "        self.pendapatan_tambahan += int(self.pendapatan * 0.05)\n",
    "# Buat objek karyawan yang bekerja sebagai AnalisData\n",
    "aksara = AnalisData('Aksara', 25, 8500000)\n",
    "aksara.lembur()\n",
    "print(aksara.total_pendapatan())"
   ]
  },
  {
   "cell_type": "markdown",
   "metadata": {},
   "source": [
    "## Overloading"
   ]
  },
  {
   "cell_type": "code",
   "execution_count": 99,
   "metadata": {},
   "outputs": [],
   "source": [
    "class Karyawan: \n",
    "    nama_perusahaan = 'ABC' \n",
    "    insentif_lembur = 250000\n",
    "    # usia akan di-set nilainya menjadi 21 saat tidak\n",
    "    # dispesifikasikan dan pendapatan akan di-set nilainya\n",
    "    # menjadi 5000000 saat tidak dispesifikasikan\n",
    "    def __init__(self, nama, usia=21, pendapatan=5000000): \n",
    "        self.nama = nama\n",
    "        self.usia = usia \n",
    "        self.pendapatan = pendapatan \n",
    "        self.pendapatan_tambahan = 0\n",
    "    def lembur(self):\n",
    "        self.pendapatan_tambahan += self.insentif_lembur \n",
    "    def tambahan_proyek(self, insentif_proyek):\n",
    "        self.pendapatan_tambahan += insentif_proyek \n",
    "    def total_pendapatan(self):\n",
    "        return self.pendapatan + self.pendapatan_tambahan"
   ]
  },
  {
   "cell_type": "code",
   "execution_count": 100,
   "metadata": {},
   "outputs": [
    {
     "name": "stdout",
     "output_type": "stream",
     "text": [
      "Budi\n",
      "21\n",
      "5000000\n"
     ]
    }
   ],
   "source": [
    "# Karyawan baru pertama yang bernama Budi\n",
    "karyawan_baru1 = Karyawan('Budi')\n",
    "print(karyawan_baru1.nama)\n",
    "print(karyawan_baru1.usia)\n",
    "print(karyawan_baru1.total_pendapatan())"
   ]
  },
  {
   "cell_type": "code",
   "execution_count": 101,
   "metadata": {},
   "outputs": [
    {
     "name": "stdout",
     "output_type": "stream",
     "text": [
      "Didi\n",
      "25\n",
      "5000000\n"
     ]
    }
   ],
   "source": [
    "# Karyawan baru ke-2 yang bernama Didi, umur 25\n",
    "karyawan_baru2 = Karyawan('Didi', 25)\n",
    "print(karyawan_baru2.nama)\n",
    "print(karyawan_baru2.usia)\n",
    "print(karyawan_baru2.total_pendapatan())"
   ]
  },
  {
   "cell_type": "code",
   "execution_count": 5,
   "metadata": {},
   "outputs": [
    {
     "ename": "TypeError",
     "evalue": "__init__() missing 2 required positional arguments: 'usia' and 'insentif_lembur'",
     "output_type": "error",
     "traceback": [
      "\u001b[1;31m---------------------------------------------------------------------------\u001b[0m",
      "\u001b[1;31mTypeError\u001b[0m                                 Traceback (most recent call last)",
      "\u001b[1;32m<ipython-input-5-f05f786757b0>\u001b[0m in \u001b[0;36m<module>\u001b[1;34m\u001b[0m\n\u001b[0;32m      1\u001b[0m \u001b[1;31m# Karyawan baru ke-3 yang bernama Hadi, pendapatan 8000000\u001b[0m\u001b[1;33m\u001b[0m\u001b[1;33m\u001b[0m\u001b[1;33m\u001b[0m\u001b[0m\n\u001b[1;32m----> 2\u001b[1;33m \u001b[0mkaryawan_baru3\u001b[0m \u001b[1;33m=\u001b[0m \u001b[0mKaryawan\u001b[0m\u001b[1;33m(\u001b[0m\u001b[1;34m'Hadi'\u001b[0m\u001b[1;33m,\u001b[0m \u001b[0mpendapatan\u001b[0m \u001b[1;33m=\u001b[0m \u001b[1;36m8000000\u001b[0m\u001b[1;33m)\u001b[0m\u001b[1;33m\u001b[0m\u001b[1;33m\u001b[0m\u001b[0m\n\u001b[0m\u001b[0;32m      3\u001b[0m \u001b[0mprint\u001b[0m\u001b[1;33m(\u001b[0m\u001b[0mkaryawan_baru3\u001b[0m\u001b[1;33m.\u001b[0m\u001b[0mnama\u001b[0m\u001b[1;33m)\u001b[0m\u001b[1;33m\u001b[0m\u001b[1;33m\u001b[0m\u001b[0m\n\u001b[0;32m      4\u001b[0m \u001b[0mprint\u001b[0m\u001b[1;33m(\u001b[0m\u001b[0mkaryawan_baru3\u001b[0m\u001b[1;33m.\u001b[0m\u001b[0musia\u001b[0m\u001b[1;33m)\u001b[0m\u001b[1;33m\u001b[0m\u001b[1;33m\u001b[0m\u001b[0m\n\u001b[0;32m      5\u001b[0m \u001b[0mprint\u001b[0m\u001b[1;33m(\u001b[0m\u001b[0mkaryawan_baru3\u001b[0m\u001b[1;33m.\u001b[0m\u001b[0mtotal_pendapatan\u001b[0m\u001b[1;33m(\u001b[0m\u001b[1;33m)\u001b[0m\u001b[1;33m)\u001b[0m\u001b[1;33m\u001b[0m\u001b[1;33m\u001b[0m\u001b[0m\n",
      "\u001b[1;31mTypeError\u001b[0m: __init__() missing 2 required positional arguments: 'usia' and 'insentif_lembur'"
     ]
    }
   ],
   "source": [
    "# Karyawan baru ke-3 yang bernama Hadi, pendapatan 8000000\n",
    "karyawan_baru3 = Karyawan('Hadi', pendapatan = 8000000)\n",
    "print(karyawan_baru3.nama)\n",
    "print(karyawan_baru3.usia)\n",
    "print(karyawan_baru3.total_pendapatan())"
   ]
  },
  {
   "cell_type": "code",
   "execution_count": null,
   "metadata": {},
   "outputs": [],
   "source": []
  }
 ],
 "metadata": {
  "kernelspec": {
   "display_name": "Python 3",
   "language": "python",
   "name": "python3"
  },
  "language_info": {
   "codemirror_mode": {
    "name": "ipython",
    "version": 3
   },
   "file_extension": ".py",
   "mimetype": "text/x-python",
   "name": "python",
   "nbconvert_exporter": "python",
   "pygments_lexer": "ipython3",
   "version": "3.8.3"
  }
 },
 "nbformat": 4,
 "nbformat_minor": 4
}
