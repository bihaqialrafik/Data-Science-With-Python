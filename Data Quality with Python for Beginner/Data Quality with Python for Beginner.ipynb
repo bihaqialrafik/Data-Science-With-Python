{
 "cells": [
  {
   "cell_type": "markdown",
   "metadata": {},
   "source": [
    "# Data Quality with Python"
   ]
  },
  {
   "cell_type": "markdown",
   "metadata": {},
   "source": [
    "Data profiling adalah kegiatan merangkum dataset menggunakan statistik deskriptif. Tujuan dari pembuatan data profiling adalah untuk memiliki pemahaman yang kuat tentang data sehingga dapat mulai menyusun framework analisis dan memvisualisasikan data.<br>\n",
    "Data profiling adalah salah satu aspek dalam Exploratory Data Analysis (EDA)"
   ]
  },
  {
   "cell_type": "markdown",
   "metadata": {},
   "source": [
    "#### <font color = blue> Import Library yang Dibutuhkan </font>"
   ]
  },
  {
   "cell_type": "code",
   "execution_count": 2,
   "metadata": {},
   "outputs": [],
   "source": [
    "import pandas as pd\n",
    "import numpy as np\n",
    "import io\n",
    "import pandas_profiling\n",
    "retail_raw = pd.read_csv('https://dqlab-dataset.s3-ap-southeast-1.amazonaws.com/retail_raw_reduced_data_quality.csv')"
   ]
  },
  {
   "cell_type": "code",
   "execution_count": 3,
   "metadata": {},
   "outputs": [
    {
     "data": {
      "text/html": [
       "<div>\n",
       "<style scoped>\n",
       "    .dataframe tbody tr th:only-of-type {\n",
       "        vertical-align: middle;\n",
       "    }\n",
       "\n",
       "    .dataframe tbody tr th {\n",
       "        vertical-align: top;\n",
       "    }\n",
       "\n",
       "    .dataframe thead th {\n",
       "        text-align: right;\n",
       "    }\n",
       "</style>\n",
       "<table border=\"1\" class=\"dataframe\">\n",
       "  <thead>\n",
       "    <tr style=\"text-align: right;\">\n",
       "      <th></th>\n",
       "      <th>order_id</th>\n",
       "      <th>order_date</th>\n",
       "      <th>customer_id</th>\n",
       "      <th>city</th>\n",
       "      <th>province</th>\n",
       "      <th>product_id</th>\n",
       "      <th>brand</th>\n",
       "      <th>quantity</th>\n",
       "      <th>item_price</th>\n",
       "    </tr>\n",
       "  </thead>\n",
       "  <tbody>\n",
       "    <tr>\n",
       "      <th>0</th>\n",
       "      <td>1703458</td>\n",
       "      <td>17/10/2019</td>\n",
       "      <td>14004</td>\n",
       "      <td>Jakarta Selatan</td>\n",
       "      <td>DKI Jakarta</td>\n",
       "      <td>P1910</td>\n",
       "      <td>BRAND_J</td>\n",
       "      <td>10.0</td>\n",
       "      <td>740000.0</td>\n",
       "    </tr>\n",
       "    <tr>\n",
       "      <th>1</th>\n",
       "      <td>1706815</td>\n",
       "      <td>24/10/2019</td>\n",
       "      <td>17220</td>\n",
       "      <td>Jakarta Selatan</td>\n",
       "      <td>DKI Jakarta</td>\n",
       "      <td>P2934</td>\n",
       "      <td>BRAND_R</td>\n",
       "      <td>2.0</td>\n",
       "      <td>604000.0</td>\n",
       "    </tr>\n",
       "    <tr>\n",
       "      <th>2</th>\n",
       "      <td>1710718</td>\n",
       "      <td>03/11/2019</td>\n",
       "      <td>16518</td>\n",
       "      <td>Jakarta Utara</td>\n",
       "      <td>DKI Jakarta</td>\n",
       "      <td>P0908</td>\n",
       "      <td>BRAND_C</td>\n",
       "      <td>8.0</td>\n",
       "      <td>1045000.0</td>\n",
       "    </tr>\n",
       "    <tr>\n",
       "      <th>3</th>\n",
       "      <td>1683592</td>\n",
       "      <td>19/08/2019</td>\n",
       "      <td>16364</td>\n",
       "      <td>Jakarta Barat</td>\n",
       "      <td>DKI Jakarta</td>\n",
       "      <td>P0128</td>\n",
       "      <td>BRAND_A</td>\n",
       "      <td>4.0</td>\n",
       "      <td>205000.0</td>\n",
       "    </tr>\n",
       "    <tr>\n",
       "      <th>4</th>\n",
       "      <td>1702573</td>\n",
       "      <td>16/10/2019</td>\n",
       "      <td>15696</td>\n",
       "      <td>Jakarta Timur</td>\n",
       "      <td>DKI Jakarta</td>\n",
       "      <td>P2968</td>\n",
       "      <td>BRAND_R</td>\n",
       "      <td>2.0</td>\n",
       "      <td>NaN</td>\n",
       "    </tr>\n",
       "  </tbody>\n",
       "</table>\n",
       "</div>"
      ],
      "text/plain": [
       "   order_id  order_date  customer_id             city     province product_id  \\\n",
       "0   1703458  17/10/2019        14004  Jakarta Selatan  DKI Jakarta      P1910   \n",
       "1   1706815  24/10/2019        17220  Jakarta Selatan  DKI Jakarta      P2934   \n",
       "2   1710718  03/11/2019        16518    Jakarta Utara  DKI Jakarta      P0908   \n",
       "3   1683592  19/08/2019        16364    Jakarta Barat  DKI Jakarta      P0128   \n",
       "4   1702573  16/10/2019        15696    Jakarta Timur  DKI Jakarta      P2968   \n",
       "\n",
       "     brand  quantity  item_price  \n",
       "0  BRAND_J      10.0    740000.0  \n",
       "1  BRAND_R       2.0    604000.0  \n",
       "2  BRAND_C       8.0   1045000.0  \n",
       "3  BRAND_A       4.0    205000.0  \n",
       "4  BRAND_R       2.0         NaN  "
      ]
     },
     "execution_count": 3,
     "metadata": {},
     "output_type": "execute_result"
    }
   ],
   "source": [
    "retail_raw.head()"
   ]
  },
  {
   "cell_type": "code",
   "execution_count": 4,
   "metadata": {},
   "outputs": [
    {
     "name": "stdout",
     "output_type": "stream",
     "text": [
      "order_id         int64\n",
      "order_date      object\n",
      "customer_id      int64\n",
      "city            object\n",
      "province        object\n",
      "product_id      object\n",
      "brand           object\n",
      "quantity       float64\n",
      "item_price     float64\n",
      "dtype: object\n"
     ]
    }
   ],
   "source": [
    "print(retail_raw.dtypes)"
   ]
  },
  {
   "cell_type": "markdown",
   "metadata": {},
   "source": [
    "### Fungsi Length\n",
    "Untuk mengetahui jumnlah pengamatan dari suatu *series/kolom* dari dataset termasuk data *missing Value* dari suatu series/kolom."
   ]
  },
  {
   "cell_type": "code",
   "execution_count": 5,
   "metadata": {},
   "outputs": [
    {
     "name": "stdout",
     "output_type": "stream",
     "text": [
      "Length kolom city: 5000\n",
      "Length kolom product_id: 5000\n"
     ]
    }
   ],
   "source": [
    "# Kolom city\n",
    "length_city = len(retail_raw['city'])\n",
    "print('Length kolom city:', length_city)\n",
    "\n",
    "# Tugas Praktek: Kolom product_id\n",
    "length_product_id = len(retail_raw['product_id'])\n",
    "print('Length kolom product_id:',length_product_id)"
   ]
  },
  {
   "cell_type": "markdown",
   "metadata": {},
   "source": [
    "### Fungsi Count\n",
    "Jika fungsi len akan menghitung semua elemen dari kolom yang mempunyai nilai termasuk juga missing value. <br> Fungsi count hanya untuk menghitung jumlah pengamatan kolom tanpa data *missing value* dalam suatu series/column."
   ]
  },
  {
   "cell_type": "code",
   "execution_count": 6,
   "metadata": {},
   "outputs": [
    {
     "name": "stdout",
     "output_type": "stream",
     "text": [
      "Count kolom count_city: 4984\n",
      "Count kolom product_id: 4989\n"
     ]
    }
   ],
   "source": [
    "# Count kolom city\n",
    "count_city = retail_raw['city'].count()\n",
    "print('Count kolom count_city:', count_city)\n",
    "\n",
    "# Tugas praktek: count kolom product_id\n",
    "count_product_id = retail_raw['product_id'].count()\n",
    "print('Count kolom product_id:', count_product_id)"
   ]
  },
  {
   "cell_type": "markdown",
   "metadata": {},
   "source": [
    "### Menghitung % Missing Values\n",
    "*missing values* adalah perbedaan antara Length dan Count"
   ]
  },
  {
   "cell_type": "code",
   "execution_count": 7,
   "metadata": {},
   "outputs": [
    {
     "name": "stdout",
     "output_type": "stream",
     "text": [
      "Persentase missing value kolom city: 0.3%\n",
      "Persentase missing value kolom product_id: 0.2%\n"
     ]
    }
   ],
   "source": [
    "# Missing value pada kolom city\n",
    "number_of_missing_values_city = length_city - count_city\n",
    "float_of_missing_values_city = float(number_of_missing_values_city/length_city)\n",
    "pct_of_missing_values_city = '{0:.1f}%'.format(float_of_missing_values_city * 100)\n",
    "print('Persentase missing value kolom city:', pct_of_missing_values_city)\n",
    "\n",
    "# Tugas praktek: Missing value pada kolom product_id\n",
    "number_of_missing_values_product_id = length_product_id - count_product_id\n",
    "float_of_missing_values_product_id = float(number_of_missing_values_product_id/length_product_id)\n",
    "pct_of_missing_values_product_id = '{0:.1f}%'.format(float_of_missing_values_product_id * 100)\n",
    "print('Persentase missing value kolom product_id:', pct_of_missing_values_product_id)"
   ]
  },
  {
   "cell_type": "markdown",
   "metadata": {},
   "source": [
    "### Pemusatan dan Persebaran Data"
   ]
  },
  {
   "cell_type": "code",
   "execution_count": 8,
   "metadata": {},
   "outputs": [
    {
     "name": "stdout",
     "output_type": "stream",
     "text": [
      "Kolom quantity\n",
      "Minimum value:  1.0\n",
      "Maximum value:  720.0\n",
      "Mean value:  11.423987164059366\n",
      "Mode value:  0    1.0\n",
      "dtype: float64\n",
      "Median value:  5.0\n",
      "Standard Deviation value:  29.442025010811317\n",
      "\n",
      "Kolom item_price\n",
      "Minimum value:  26000.0\n",
      "Maximum value:  29762000.0\n",
      "Mean value:  933742.7311008623\n",
      "Median value:  604000.0\n",
      "Standard Deviation value:  1030829.8104242863\n"
     ]
    }
   ],
   "source": [
    "# Deskriptif statistics kolom quantity\n",
    "print('Kolom quantity')\n",
    "print('Minimum value: ', retail_raw['quantity'].min())\n",
    "print('Maximum value: ', retail_raw['quantity'].max())\n",
    "print('Mean value: ', retail_raw['quantity'].mean())\n",
    "print('Mode value: ', retail_raw['quantity'].mode())\n",
    "print('Median value: ', retail_raw['quantity'].median())\n",
    "print('Standard Deviation value: ', retail_raw['quantity'].std())\n",
    "\n",
    "# Tugas praktek: Deskriptif statistics kolom item_price\n",
    "print('')\n",
    "print('Kolom item_price')\n",
    "print('Minimum value: ', retail_raw['item_price'].min())\n",
    "print('Maximum value: ', retail_raw['item_price'].max())\n",
    "print('Mean value: ', retail_raw['item_price'].mean())\n",
    "print('Median value: ', retail_raw['item_price'].median())\n",
    "print('Standard Deviation value: ', retail_raw['item_price'].std())"
   ]
  },
  {
   "cell_type": "markdown",
   "metadata": {},
   "source": [
    "### Quantile"
   ]
  },
  {
   "cell_type": "code",
   "execution_count": 9,
   "metadata": {},
   "outputs": [
    {
     "name": "stdout",
     "output_type": "stream",
     "text": [
      "Kolom quantity:\n",
      "0.25     2.0\n",
      "0.50     5.0\n",
      "0.75    12.0\n",
      "Name: quantity, dtype: float64\n",
      "\n",
      "Kolom item_price:\n",
      "0.25     450000.0\n",
      "0.50     604000.0\n",
      "0.75    1045000.0\n",
      "Name: item_price, dtype: float64\n"
     ]
    }
   ],
   "source": [
    "# Quantile statistics kolom quantity\n",
    "print('Kolom quantity:')\n",
    "print(retail_raw['quantity'].quantile([.25, .5, .75]))\n",
    "\n",
    "# Tugas praktek: Quantile statistics kolom item_price\n",
    "print('')\n",
    "print('Kolom item_price:')\n",
    "print(retail_raw['item_price'].quantile([.25, .5, .75]))"
   ]
  },
  {
   "cell_type": "markdown",
   "metadata": {},
   "source": [
    "### Correlation"
   ]
  },
  {
   "cell_type": "code",
   "execution_count": 10,
   "metadata": {},
   "outputs": [
    {
     "name": "stdout",
     "output_type": "stream",
     "text": [
      "Korelasi quantity dengan item_price\n",
      "            quantity  item_price\n",
      "quantity    1.000000   -0.133936\n",
      "item_price -0.133936    1.000000\n"
     ]
    }
   ],
   "source": [
    "# Mengetahui Korelasi Antara quantity dengan item_price\n",
    "print('Korelasi quantity dengan item_price')\n",
    "print(retail_raw[['quantity', 'item_price']].corr())"
   ]
  },
  {
   "cell_type": "markdown",
   "metadata": {},
   "source": [
    "## Penggunaan Pandas_profiling Library"
   ]
  },
  {
   "cell_type": "code",
   "execution_count": 11,
   "metadata": {},
   "outputs": [],
   "source": [
    "Report = pandas_profiling.ProfileReport(retail_raw)"
   ]
  },
  {
   "cell_type": "code",
   "execution_count": 12,
   "metadata": {},
   "outputs": [
    {
     "data": {
      "application/vnd.jupyter.widget-view+json": {
       "model_id": "391c9506e63945d2a303dc54198ded14",
       "version_major": 2,
       "version_minor": 0
      },
      "text/plain": [
       "HBox(children=(FloatProgress(value=0.0, description='Summarize dataset', max=23.0, style=ProgressStyle(descrip…"
      ]
     },
     "metadata": {},
     "output_type": "display_data"
    },
    {
     "name": "stdout",
     "output_type": "stream",
     "text": [
      "\n"
     ]
    },
    {
     "data": {
      "application/vnd.jupyter.widget-view+json": {
       "model_id": "b8f73bd2f9f04e7d9480e040bece71df",
       "version_major": 2,
       "version_minor": 0
      },
      "text/plain": [
       "HBox(children=(FloatProgress(value=0.0, description='Generate report structure', max=1.0, style=ProgressStyle(…"
      ]
     },
     "metadata": {},
     "output_type": "display_data"
    },
    {
     "name": "stdout",
     "output_type": "stream",
     "text": [
      "\n"
     ]
    },
    {
     "data": {
      "application/vnd.jupyter.widget-view+json": {
       "model_id": "53a27916cfac4dfb848c6f1f434ebb89",
       "version_major": 2,
       "version_minor": 0
      },
      "text/plain": [
       "HBox(children=(FloatProgress(value=0.0, description='Render HTML', max=1.0, style=ProgressStyle(description_wi…"
      ]
     },
     "metadata": {},
     "output_type": "display_data"
    },
    {
     "name": "stdout",
     "output_type": "stream",
     "text": [
      "\n"
     ]
    },
    {
     "data": {
      "application/vnd.jupyter.widget-view+json": {
       "model_id": "f1f16f5de5444d968c223d031d4ccd7b",
       "version_major": 2,
       "version_minor": 0
      },
      "text/plain": [
       "HBox(children=(FloatProgress(value=0.0, description='Export report to file', max=1.0, style=ProgressStyle(desc…"
      ]
     },
     "metadata": {},
     "output_type": "display_data"
    },
    {
     "name": "stdout",
     "output_type": "stream",
     "text": [
      "\n"
     ]
    }
   ],
   "source": [
    "Report.to_file('retail_raw_report.html')"
   ]
  },
  {
   "cell_type": "markdown",
   "metadata": {},
   "source": [
    "### Treatment Missing Value"
   ]
  },
  {
   "cell_type": "code",
   "execution_count": 13,
   "metadata": {},
   "outputs": [
    {
     "name": "stdout",
     "output_type": "stream",
     "text": [
      "Check kolom yang memiliki missing data:\n",
      "order_id       False\n",
      "order_date     False\n",
      "customer_id    False\n",
      "city            True\n",
      "province        True\n",
      "product_id      True\n",
      "brand          False\n",
      "quantity        True\n",
      "item_price      True\n",
      "dtype: bool\n"
     ]
    }
   ],
   "source": [
    "# Check kolom yang memiliki missing data\n",
    "print('Check kolom yang memiliki missing data:')\n",
    "print(retail_raw.isnull().any())"
   ]
  },
  {
   "cell_type": "code",
   "execution_count": 14,
   "metadata": {},
   "outputs": [
    {
     "name": "stdout",
     "output_type": "stream",
     "text": [
      "\n",
      "Filling the missing value (imputasi):\n",
      "0       10.0\n",
      "1        2.0\n",
      "2        8.0\n",
      "3        4.0\n",
      "4        2.0\n",
      "        ... \n",
      "4995     2.0\n",
      "4996     3.0\n",
      "4997     4.0\n",
      "4998     8.0\n",
      "4999     1.0\n",
      "Name: quantity, Length: 5000, dtype: float64\n"
     ]
    }
   ],
   "source": [
    "# Filling the missing value (imputasi)\n",
    "print('\\nFilling the missing value (imputasi):')\n",
    "print(retail_raw['quantity'].fillna(retail_raw['quantity'].mean()))"
   ]
  },
  {
   "cell_type": "code",
   "execution_count": 15,
   "metadata": {},
   "outputs": [
    {
     "name": "stdout",
     "output_type": "stream",
     "text": [
      "\n",
      "Drop missing value:\n",
      "0       10.0\n",
      "1        2.0\n",
      "2        8.0\n",
      "3        4.0\n",
      "4        2.0\n",
      "        ... \n",
      "4995     2.0\n",
      "4996     3.0\n",
      "4997     4.0\n",
      "4998     8.0\n",
      "4999     1.0\n",
      "Name: quantity, Length: 4986, dtype: float64\n"
     ]
    }
   ],
   "source": [
    "# Drop missing value\n",
    "print('\\nDrop missing value:')\n",
    "print(retail_raw['quantity'].dropna())"
   ]
  },
  {
   "cell_type": "markdown",
   "metadata": {},
   "source": [
    "### OUTLIER"
   ]
  },
  {
   "cell_type": "code",
   "execution_count": 16,
   "metadata": {},
   "outputs": [
    {
     "name": "stdout",
     "output_type": "stream",
     "text": [
      "Shape awal:  (5000, 9)\n"
     ]
    }
   ],
   "source": [
    "# Q1, Q3, dan IQR\n",
    "Q1 = retail_raw['quantity'].quantile(0.25)\n",
    "Q3 = retail_raw['quantity'].quantile(0.75)\n",
    "IQR = Q3 - Q1\n",
    "\n",
    "# Check ukuran (baris dan kolom) sebelum data yang outliers dibuang\n",
    "print('Shape awal: ', retail_raw.shape)"
   ]
  },
  {
   "cell_type": "code",
   "execution_count": 17,
   "metadata": {},
   "outputs": [
    {
     "name": "stdout",
     "output_type": "stream",
     "text": [
      "Shape akhir:  (4699, 9)\n"
     ]
    }
   ],
   "source": [
    "# Removing outliers\n",
    "retail_raw = retail_raw[~((retail_raw['quantity'] < (Q1 - 1.5 * IQR)) | (retail_raw['quantity'] > (Q3 + 1.5 * IQR)))]\n",
    "\n",
    "# Check ukuran (baris dan kolom) setelah data yang outliers dibuang\n",
    "print('Shape akhir: ', retail_raw.shape)"
   ]
  },
  {
   "cell_type": "markdown",
   "metadata": {},
   "source": [
    "### Deduplikasi"
   ]
  },
  {
   "cell_type": "code",
   "execution_count": 18,
   "metadata": {},
   "outputs": [
    {
     "name": "stdout",
     "output_type": "stream",
     "text": [
      "Shape awal:  (4699, 9)\n",
      "Shape akhir:  (4692, 9)\n"
     ]
    },
    {
     "name": "stderr",
     "output_type": "stream",
     "text": [
      "<ipython-input-18-8756f61a4437>:5: SettingWithCopyWarning: \n",
      "A value is trying to be set on a copy of a slice from a DataFrame\n",
      "\n",
      "See the caveats in the documentation: https://pandas.pydata.org/pandas-docs/stable/user_guide/indexing.html#returning-a-view-versus-a-copy\n",
      "  retail_raw.drop_duplicates(inplace=True)\n"
     ]
    }
   ],
   "source": [
    "# Cek ukuran (baris dan kolom) sebelum data duplikasi dibuang\n",
    "print('Shape awal: ', retail_raw.shape)\n",
    "\n",
    "# Buang data yang terduplikasi\n",
    "retail_raw.drop_duplicates(inplace=True)\n",
    "\n",
    "# Cek ukuran (baris dan kolom) setelah data duplikasi dibuang\n",
    "print('Shape akhir: ', retail_raw.shape)"
   ]
  },
  {
   "cell_type": "code",
   "execution_count": null,
   "metadata": {},
   "outputs": [],
   "source": []
  }
 ],
 "metadata": {
  "kernelspec": {
   "display_name": "Python 3",
   "language": "python",
   "name": "python3"
  },
  "language_info": {
   "codemirror_mode": {
    "name": "ipython",
    "version": 3
   },
   "file_extension": ".py",
   "mimetype": "text/x-python",
   "name": "python",
   "nbconvert_exporter": "python",
   "pygments_lexer": "ipython3",
   "version": "3.8.3"
  }
 },
 "nbformat": 4,
 "nbformat_minor": 4
}
