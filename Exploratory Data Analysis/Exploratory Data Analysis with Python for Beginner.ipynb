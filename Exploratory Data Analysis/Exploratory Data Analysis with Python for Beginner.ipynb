{
 "cells": [
  {
   "cell_type": "markdown",
   "metadata": {},
   "source": [
    "# Exploratory Data Analysis"
   ]
  },
  {
   "cell_type": "code",
   "execution_count": 3,
   "metadata": {},
   "outputs": [],
   "source": [
    "# Import Library\n",
    "import pandas as pd\n",
    "import matplotlib.pyplot as plt"
   ]
  },
  {
   "cell_type": "code",
   "execution_count": 4,
   "metadata": {},
   "outputs": [],
   "source": [
    "# Import Dataset\n",
    "order_df = pd.read_csv(\"https://dqlab-dataset.s3-ap-southeast-1.amazonaws.com/order.csv\")"
   ]
  },
  {
   "cell_type": "code",
   "execution_count": 7,
   "metadata": {},
   "outputs": [
    {
     "data": {
      "text/plain": [
       "(49999, 12)"
      ]
     },
     "execution_count": 7,
     "metadata": {},
     "output_type": "execute_result"
    }
   ],
   "source": [
    "#Cek Jumlah Baris dan Kolom dari Dataset\n",
    "order_df.shape"
   ]
  },
  {
   "cell_type": "markdown",
   "metadata": {},
   "source": [
    "## Cek Summary Data"
   ]
  },
  {
   "cell_type": "code",
   "execution_count": 8,
   "metadata": {},
   "outputs": [
    {
     "name": "stdout",
     "output_type": "stream",
     "text": [
      "<bound method NDFrame.describe of                                order_id  quantity  \\\n",
      "0      2e7a8482f6fb09756ca50c10d7bfc047         2   \n",
      "1      2e7a8482f6fb09756ca50c10d7bfc047         1   \n",
      "2      e5fa5a7210941f7d56d0208e4e071d35         1   \n",
      "3      3b697a20d9e427646d92567910af6d57         1   \n",
      "4      71303d7e93b399f5bcd537d124c0bcfa         1   \n",
      "...                                 ...       ...   \n",
      "49994  ec88157ad03aa203c3fdfe7bace5ab6b         1   \n",
      "49995  ed60085e92e2aa3debf49159deb34da7         1   \n",
      "49996  ed98c37d860890f940e2acd83629fdd1         2   \n",
      "49997  ed98c37d860890f940e2acd83629fdd1         1   \n",
      "49998  ede4ebbb6e36cbd377eabcc7f5229575         1   \n",
      "\n",
      "                             product_id    price  \\\n",
      "0      f293394c72c9b5fafd7023301fc21fc2  1489000   \n",
      "1      c1488892604e4ba5cff5b4eb4d595400  1756000   \n",
      "2      f3c2d01a84c947b078e32bbef0718962  1707000   \n",
      "3      3ae08df6bcbfe23586dd431c40bddbb7  3071000   \n",
      "4      d2998d7ced12f83f9b832f33cf6507b6  3833000   \n",
      "...                                 ...      ...   \n",
      "49994  165f86fe8b799a708a20ee4ba125c289  3077000   \n",
      "49995  6e835aea84ae8eb68b8c14878dd43b30  1277000   \n",
      "49996  aca2eb7d00ea1a7b8ebd4e68314663af   486000   \n",
      "49997  aca2eb7d00ea1a7b8ebd4e68314663af   830000   \n",
      "49998  2b0ee2d07306f7c9ac55a43166e9bb4b   215000   \n",
      "\n",
      "                              seller_id  freight_value  \\\n",
      "0      1554a68530182680ad5c8b042c3ab563          28000   \n",
      "1      1554a68530182680ad5c8b042c3ab563          45000   \n",
      "2      a425f92c199eb576938df686728acd20         174000   \n",
      "3      522620dcb18a6b31cd7bdf73665113a9         154000   \n",
      "4      25e6ffe976bd75618accfe16cefcbd0d         147000   \n",
      "...                                 ...            ...   \n",
      "49994  7ddcbb64b5bc1ef36ca8c151f6ec77df         172000   \n",
      "49995  4d6d651bd7684af3fffabd5f08d12e5a         130000   \n",
      "49996  955fee9216a65b617aa5c0531780ce60          14000   \n",
      "49997  955fee9216a65b617aa5c0531780ce60         108000   \n",
      "49998  1900267e848ceeba8fa32d80c1a5f5a8         189000   \n",
      "\n",
      "                            customer_id order_status purchase_date  \\\n",
      "0      08c5351a6aca1c1589a38f244edeee9d      shipped    2016-09-05   \n",
      "1      08c5351a6aca1c1589a38f244edeee9d      shipped    2016-09-05   \n",
      "2      683c54fc24d40ee9f8a6fc179fd9856c     canceled    2016-09-05   \n",
      "3      355077684019f7f60a031656bd7262b8    delivered    2016-10-03   \n",
      "4      b106b360fe2ef8849fbbd056f777b4d5     canceled    2016-10-03   \n",
      "...                                 ...          ...           ...   \n",
      "49994  1642b8087a8ca0c8592becff7e183c98    delivered    2017-12-15   \n",
      "49995  431bbb57d52f3141ab2f33a6a4cf00a6    delivered    2017-12-15   \n",
      "49996  71f8cd490677ee95362201588c0eaff4    delivered    2017-12-15   \n",
      "49997  71f8cd490677ee95362201588c0eaff4    delivered    2017-12-15   \n",
      "49998  60d2d93a97ec1ad751f2ddce9249ba2a    delivered    2017-12-15   \n",
      "\n",
      "          payment_type product_category_name  product_weight_gram  \n",
      "0      virtual account               fashion               1800.0  \n",
      "1      virtual account            automotive               1400.0  \n",
      "2             e-wallet                  toys                700.0  \n",
      "3             e-wallet             utilities                300.0  \n",
      "4             e-wallet               fashion                500.0  \n",
      "...                ...                   ...                  ...  \n",
      "49994         e-wallet            automotive               2425.0  \n",
      "49995       debit card                beauty               2350.0  \n",
      "49996       debit card                gadget               2600.0  \n",
      "49997         e-wallet                gadget               2600.0  \n",
      "49998      credit card                beauty               1450.0  \n",
      "\n",
      "[49999 rows x 12 columns]>\n"
     ]
    }
   ],
   "source": [
    "print(order_df.describe)"
   ]
  },
  {
   "cell_type": "markdown",
   "metadata": {},
   "source": [
    "## Cek Median Tiap Kolom dari Dataset"
   ]
  },
  {
   "cell_type": "code",
   "execution_count": 9,
   "metadata": {},
   "outputs": [
    {
     "name": "stdout",
     "output_type": "stream",
     "text": [
      "<bound method Series.median of 0        1489000\n",
      "1        1756000\n",
      "2        1707000\n",
      "3        3071000\n",
      "4        3833000\n",
      "          ...   \n",
      "49994    3077000\n",
      "49995    1277000\n",
      "49996     486000\n",
      "49997     830000\n",
      "49998     215000\n",
      "Name: price, Length: 49999, dtype: int64>\n"
     ]
    }
   ],
   "source": [
    "# Median median dari total pembelian konsumen per transaksi kolom price\n",
    "print(order_df.loc[:, 'price'].median)"
   ]
  },
  {
   "cell_type": "markdown",
   "metadata": {},
   "source": [
    "## Cek History Data"
   ]
  },
  {
   "cell_type": "code",
   "execution_count": 28,
   "metadata": {},
   "outputs": [
    {
     "data": {
      "image/png": "[encoded data removed]",
      "text/plain": [
       "<Figure size 288x360 with 1 Axes>"
      ]
     },
     "metadata": {
      "needs_background": "light"
     },
     "output_type": "display_data"
    }
   ],
   "source": [
    "# plot histogram kolom: price\n",
    "order_df[['price']].hist(figsize=(4, 5), bins=10, xlabelsize=8, ylabelsize=8)\n",
    "plt.show()  # Untuk menampilkan histogram plot"
   ]
  },
  {
   "cell_type": "markdown",
   "metadata": {},
   "source": [
    "## Mengetahui Standar Deviasi dan Varians"
   ]
  },
  {
   "cell_type": "code",
   "execution_count": 15,
   "metadata": {},
   "outputs": [
    {
     "name": "stdout",
     "output_type": "stream",
     "text": [
      "3929.896875372737\n",
      "15444089.451064402\n"
     ]
    }
   ],
   "source": [
    "# Standar variasi kolom product_weight_gram\n",
    "print(order_df.loc[:, 'product_weight_gram'].std())\n",
    "# Varians kolom product_weight_gram\n",
    "print(order_df.loc[:, 'product_weight_gram'].var())"
   ]
  },
  {
   "cell_type": "markdown",
   "metadata": {},
   "source": [
    "## Deteksi Outlier\n",
    "Pada umumnya, outliers dapat ditentukan dengan metrik IQR (interquartile range).<br>\n",
    "Rumus dasar dari IQR: Q3 - Q1. Dan data suatu observasi dapat dikatakan outliers jika memenuhi kedua syarat dibawah ini:<br>\n",
    "- Data < Q1 - 1.5 * IQR\n",
    "- Data > Q3 + 1.5 * IQR\n"
   ]
  },
  {
   "cell_type": "code",
   "execution_count": 18,
   "metadata": {},
   "outputs": [
    {
     "name": "stdout",
     "output_type": "stream",
     "text": [
      "product_weight_gram    1550.0\n",
      "dtype: float64\n"
     ]
    }
   ],
   "source": [
    "# Hitung quartile 1\n",
    "Q1 = order_df[['product_weight_gram']].quantile(0.25)\n",
    "# Hitung quartile 3\n",
    "Q3 = order_df[['product_weight_gram']].quantile(0.75)\n",
    "# Hitung inter quartile range dan cetak ke console\n",
    "IQR = Q3 - Q1\n",
    "print(IQR)"
   ]
  },
  {
   "cell_type": "code",
   "execution_count": 28,
   "metadata": {},
   "outputs": [
    {
     "name": "stdout",
     "output_type": "stream",
     "text": [
      "       customer_id  freight_value  order_id  order_status  payment_type  \\\n",
      "0            False          False     False         False         False   \n",
      "1            False          False     False         False         False   \n",
      "2            False          False     False         False         False   \n",
      "3            False          False     False         False         False   \n",
      "4            False          False     False         False         False   \n",
      "...            ...            ...       ...           ...           ...   \n",
      "49994        False          False     False         False         False   \n",
      "49995        False          False     False         False         False   \n",
      "49996        False          False     False         False         False   \n",
      "49997        False          False     False         False         False   \n",
      "49998        False          False     False         False         False   \n",
      "\n",
      "       price  product_category_name  product_id  product_weight_gram  \\\n",
      "0      False                  False       False                False   \n",
      "1      False                  False       False                False   \n",
      "2      False                  False       False                False   \n",
      "3      False                  False       False                False   \n",
      "4      False                  False       False                False   \n",
      "...      ...                    ...         ...                  ...   \n",
      "49994  False                  False       False                False   \n",
      "49995  False                  False       False                False   \n",
      "49996  False                  False       False                False   \n",
      "49997  False                  False       False                False   \n",
      "49998  False                  False       False                False   \n",
      "\n",
      "       purchase_date  quantity  seller_id  \n",
      "0              False     False      False  \n",
      "1              False     False      False  \n",
      "2              False     False      False  \n",
      "3              False     False      False  \n",
      "4              False     False      False  \n",
      "...              ...       ...        ...  \n",
      "49994          False     False      False  \n",
      "49995          False     False      False  \n",
      "49996          False     False      False  \n",
      "49997          False     False      False  \n",
      "49998          False     False      False  \n",
      "\n",
      "[49999 rows x 12 columns]\n"
     ]
    }
   ],
   "source": [
    "print((order_df < (Q1 - 1.5*IQR)) | (order_df > (Q1 + 1.5*IQR)))"
   ]
  },
  {
   "cell_type": "markdown",
   "metadata": {},
   "source": [
    "## Mengganti Nama dari Sebuah Kolom\n",
    "Mengganti nama kolom pada Pandas dapat dilakukan dengan 2 cara yaitu: <br>\n",
    "dengan menggunakan nama kolom atau Menggunakan indeks kolom"
   ]
  },
  {
   "cell_type": "code",
   "execution_count": 29,
   "metadata": {},
   "outputs": [
    {
     "name": "stdout",
     "output_type": "stream",
     "text": [
      "                               order_id  quantity  \\\n",
      "0      2e7a8482f6fb09756ca50c10d7bfc047         2   \n",
      "1      2e7a8482f6fb09756ca50c10d7bfc047         1   \n",
      "2      e5fa5a7210941f7d56d0208e4e071d35         1   \n",
      "3      3b697a20d9e427646d92567910af6d57         1   \n",
      "4      71303d7e93b399f5bcd537d124c0bcfa         1   \n",
      "...                                 ...       ...   \n",
      "49994  ec88157ad03aa203c3fdfe7bace5ab6b         1   \n",
      "49995  ed60085e92e2aa3debf49159deb34da7         1   \n",
      "49996  ed98c37d860890f940e2acd83629fdd1         2   \n",
      "49997  ed98c37d860890f940e2acd83629fdd1         1   \n",
      "49998  ede4ebbb6e36cbd377eabcc7f5229575         1   \n",
      "\n",
      "                             product_id    price  \\\n",
      "0      f293394c72c9b5fafd7023301fc21fc2  1489000   \n",
      "1      c1488892604e4ba5cff5b4eb4d595400  1756000   \n",
      "2      f3c2d01a84c947b078e32bbef0718962  1707000   \n",
      "3      3ae08df6bcbfe23586dd431c40bddbb7  3071000   \n",
      "4      d2998d7ced12f83f9b832f33cf6507b6  3833000   \n",
      "...                                 ...      ...   \n",
      "49994  165f86fe8b799a708a20ee4ba125c289  3077000   \n",
      "49995  6e835aea84ae8eb68b8c14878dd43b30  1277000   \n",
      "49996  aca2eb7d00ea1a7b8ebd4e68314663af   486000   \n",
      "49997  aca2eb7d00ea1a7b8ebd4e68314663af   830000   \n",
      "49998  2b0ee2d07306f7c9ac55a43166e9bb4b   215000   \n",
      "\n",
      "                              seller_id  shipping_cost  \\\n",
      "0      1554a68530182680ad5c8b042c3ab563          28000   \n",
      "1      1554a68530182680ad5c8b042c3ab563          45000   \n",
      "2      a425f92c199eb576938df686728acd20         174000   \n",
      "3      522620dcb18a6b31cd7bdf73665113a9         154000   \n",
      "4      25e6ffe976bd75618accfe16cefcbd0d         147000   \n",
      "...                                 ...            ...   \n",
      "49994  7ddcbb64b5bc1ef36ca8c151f6ec77df         172000   \n",
      "49995  4d6d651bd7684af3fffabd5f08d12e5a         130000   \n",
      "49996  955fee9216a65b617aa5c0531780ce60          14000   \n",
      "49997  955fee9216a65b617aa5c0531780ce60         108000   \n",
      "49998  1900267e848ceeba8fa32d80c1a5f5a8         189000   \n",
      "\n",
      "                            customer_id order_status purchase_date  \\\n",
      "0      08c5351a6aca1c1589a38f244edeee9d      shipped    2016-09-05   \n",
      "1      08c5351a6aca1c1589a38f244edeee9d      shipped    2016-09-05   \n",
      "2      683c54fc24d40ee9f8a6fc179fd9856c     canceled    2016-09-05   \n",
      "3      355077684019f7f60a031656bd7262b8    delivered    2016-10-03   \n",
      "4      b106b360fe2ef8849fbbd056f777b4d5     canceled    2016-10-03   \n",
      "...                                 ...          ...           ...   \n",
      "49994  1642b8087a8ca0c8592becff7e183c98    delivered    2017-12-15   \n",
      "49995  431bbb57d52f3141ab2f33a6a4cf00a6    delivered    2017-12-15   \n",
      "49996  71f8cd490677ee95362201588c0eaff4    delivered    2017-12-15   \n",
      "49997  71f8cd490677ee95362201588c0eaff4    delivered    2017-12-15   \n",
      "49998  60d2d93a97ec1ad751f2ddce9249ba2a    delivered    2017-12-15   \n",
      "\n",
      "          payment_type product_category_name  product_weight_gram  \n",
      "0      virtual account               fashion               1800.0  \n",
      "1      virtual account            automotive               1400.0  \n",
      "2             e-wallet                  toys                700.0  \n",
      "3             e-wallet             utilities                300.0  \n",
      "4             e-wallet               fashion                500.0  \n",
      "...                ...                   ...                  ...  \n",
      "49994         e-wallet            automotive               2425.0  \n",
      "49995       debit card                beauty               2350.0  \n",
      "49996       debit card                gadget               2600.0  \n",
      "49997         e-wallet                gadget               2600.0  \n",
      "49998      credit card                beauty               1450.0  \n",
      "\n",
      "[49999 rows x 12 columns]\n"
     ]
    }
   ],
   "source": [
    "# Ganti nama kolom freight_value menjadi shipping_cost\n",
    "order_df.rename(columns={'freight_value': 'shipping_cost'}, inplace=True)\n",
    "print(order_df)"
   ]
  },
  {
   "cell_type": "code",
   "execution_count": 30,
   "metadata": {},
   "outputs": [
    {
     "name": "stdout",
     "output_type": "stream",
     "text": [
      "payment_type\n",
      "credit card        2.600706e+06\n",
      "debit card         2.611974e+06\n",
      "e-wallet           2.598562e+06\n",
      "virtual account    2.619786e+06\n",
      "Name: price, dtype: float64\n"
     ]
    }
   ],
   "source": [
    "# Hitung rata rata dari price per payment_type\n",
    "rata_rata = order_df[\"price\"].groupby(order_df[\"payment_type\"]).mean()\n",
    "print(rata_rata)"
   ]
  },
  {
   "cell_type": "code",
   "execution_count": 31,
   "metadata": {},
   "outputs": [
    {
     "name": "stdout",
     "output_type": "stream",
     "text": [
      "                               order_id  quantity  \\\n",
      "37085  d7b2d3b902441cf3dd12cd125533217d         1   \n",
      "41958  2711089c7fec59d4dc8483e3c6a12fa3         1   \n",
      "3976   f343624eab419250ad81f1ce6be22c93         1   \n",
      "21072  c8947a583ab9791a5a9d02384cb84302         1   \n",
      "47074  f6134169ca6f0cdfbe6458ebb5731613         1   \n",
      "22618  a767765cf25c6fcfd8307499da9205d2         1   \n",
      "5273   10bf9305aa4d5fb3382720adad789a40         1   \n",
      "34883  c262a5f352a22159735734b273a4b888         1   \n",
      "2006   1b01e824ff3005e8108c5112f41c219c         1   \n",
      "11935  4ca6a87f196ea892c5abc4e84748fbde         1   \n",
      "\n",
      "                             product_id    price  \\\n",
      "37085  35afc973633aaeb6b877ff57b2793310  5000000   \n",
      "41958  7c1bd920dbdf22470b68bde975dd3ccf  5000000   \n",
      "3976   777d2e438a1b645f3aec9bd57e92672c  5000000   \n",
      "21072  f8cfb63e323be2e1c4172f255d61843d  5000000   \n",
      "47074  2ea92fab7565c4fe9f91a5e4e1756258  5000000   \n",
      "22618  48698ba0cfe847b41430fa00081b5619  5000000   \n",
      "5273   209c968305b3c2ab858608fc0b21e7e0  4999000   \n",
      "34883  ac43429cfe2a3933709b85dc2acacca8  4999000   \n",
      "2006   9ead93350fbb3a5f0cc0b48c8c983748  4999000   \n",
      "11935  585d35af545f17795ce05febd7a474d2  4999000   \n",
      "\n",
      "                              seller_id  shipping_cost  \\\n",
      "37085  4a3ca9315b744ce9f8e9374361493884         118000   \n",
      "41958  cc419e0650a3c5ba77189a1882b7556a          31000   \n",
      "3976   4a3ca9315b744ce9f8e9374361493884         101000   \n",
      "21072  4a3ca9315b744ce9f8e9374361493884         184000   \n",
      "47074  3d871de0142ce09b7081e2b9d1733cb1         196000   \n",
      "22618  5962468f885ea01a1b6a97a218797b0a          96000   \n",
      "5273   2138ccb85b11a4ec1e37afbd1c8eda1f         115000   \n",
      "34883  1284de4ae8aa26997e748c851557cf0e         156000   \n",
      "2006   adcf50477d6a1f5d91bb9d54c4903cb5          94000   \n",
      "11935  81a1104df0f08b59c68aa5b03cfe398e          67000   \n",
      "\n",
      "                            customer_id order_status purchase_date  \\\n",
      "37085  217344c7c334e16c8e76551b4b240c1d    delivered    2017-10-31   \n",
      "41958  0ef59d9bb071def3dbf7e7b055965e95    delivered    2017-11-24   \n",
      "3976   3fc0d940852ab274e532e80b1c1d5c2f    delivered    2017-03-07   \n",
      "21072  57c047e791e69bef0af220b0a165a22d    delivered    2017-07-27   \n",
      "47074  cbfdcc896d6ebc83c21fdcf4f4762efc    delivered    2017-12-04   \n",
      "22618  8634716353031b0f8a834143916f9004    delivered    2017-08-06   \n",
      "5273   1fad3d9bd6b3092c7f7fb5502fcc9b4c    delivered    2017-03-21   \n",
      "34883  7e525088ec0cbb01d466d0286f2b97d9    delivered    2017-10-18   \n",
      "2006   e621534f813417899b9d1f1a3556fe98    delivered    2017-02-09   \n",
      "11935  0d011c0f29cd74c1b0313cc32294b787    delivered    2017-05-21   \n",
      "\n",
      "          payment_type product_category_name  product_weight_gram  \n",
      "37085       debit card                beauty               1825.0  \n",
      "41958         e-wallet               fashion                200.0  \n",
      "3976        debit card                gadget                950.0  \n",
      "21072      credit card                beauty                550.0  \n",
      "47074  virtual account                gadget              10600.0  \n",
      "22618       debit card                beauty                200.0  \n",
      "5273          e-wallet             utilities                200.0  \n",
      "34883         e-wallet             utilities                650.0  \n",
      "2006   virtual account             utilities              14600.0  \n",
      "11935         e-wallet                gadget               3100.0  \n"
     ]
    }
   ],
   "source": [
    "# Hitung harga maksimum pembelian customer\n",
    "sort_harga = order_df.sort_values(by=\"price\", ascending=False)\n",
    "print(sort_harga.head(10))"
   ]
  },
  {
   "cell_type": "code",
   "execution_count": 32,
   "metadata": {},
   "outputs": [
    {
     "name": "stdout",
     "output_type": "stream",
     "text": [
      "                               order_id  quantity  \\\n",
      "0      2e7a8482f6fb09756ca50c10d7bfc047         2   \n",
      "1      2e7a8482f6fb09756ca50c10d7bfc047         1   \n",
      "2      e5fa5a7210941f7d56d0208e4e071d35         1   \n",
      "3      3b697a20d9e427646d92567910af6d57         1   \n",
      "4      71303d7e93b399f5bcd537d124c0bcfa         1   \n",
      "...                                 ...       ...   \n",
      "49994  ec88157ad03aa203c3fdfe7bace5ab6b         1   \n",
      "49995  ed60085e92e2aa3debf49159deb34da7         1   \n",
      "49996  ed98c37d860890f940e2acd83629fdd1         2   \n",
      "49997  ed98c37d860890f940e2acd83629fdd1         1   \n",
      "49998  ede4ebbb6e36cbd377eabcc7f5229575         1   \n",
      "\n",
      "                             product_id    price  \\\n",
      "0      f293394c72c9b5fafd7023301fc21fc2  1489000   \n",
      "1      c1488892604e4ba5cff5b4eb4d595400  1756000   \n",
      "2      f3c2d01a84c947b078e32bbef0718962  1707000   \n",
      "3      3ae08df6bcbfe23586dd431c40bddbb7  3071000   \n",
      "4      d2998d7ced12f83f9b832f33cf6507b6  3833000   \n",
      "...                                 ...      ...   \n",
      "49994  165f86fe8b799a708a20ee4ba125c289  3077000   \n",
      "49995  6e835aea84ae8eb68b8c14878dd43b30  1277000   \n",
      "49996  aca2eb7d00ea1a7b8ebd4e68314663af   486000   \n",
      "49997  aca2eb7d00ea1a7b8ebd4e68314663af   830000   \n",
      "49998  2b0ee2d07306f7c9ac55a43166e9bb4b   215000   \n",
      "\n",
      "                              seller_id  freight_value  \\\n",
      "0      1554a68530182680ad5c8b042c3ab563          28000   \n",
      "1      1554a68530182680ad5c8b042c3ab563          45000   \n",
      "2      a425f92c199eb576938df686728acd20         174000   \n",
      "3      522620dcb18a6b31cd7bdf73665113a9         154000   \n",
      "4      25e6ffe976bd75618accfe16cefcbd0d         147000   \n",
      "...                                 ...            ...   \n",
      "49994  7ddcbb64b5bc1ef36ca8c151f6ec77df         172000   \n",
      "49995  4d6d651bd7684af3fffabd5f08d12e5a         130000   \n",
      "49996  955fee9216a65b617aa5c0531780ce60          14000   \n",
      "49997  955fee9216a65b617aa5c0531780ce60         108000   \n",
      "49998  1900267e848ceeba8fa32d80c1a5f5a8         189000   \n",
      "\n",
      "                            customer_id order_status purchase_date  \\\n",
      "0      08c5351a6aca1c1589a38f244edeee9d      shipped    2016-09-05   \n",
      "1      08c5351a6aca1c1589a38f244edeee9d      shipped    2016-09-05   \n",
      "2      683c54fc24d40ee9f8a6fc179fd9856c     canceled    2016-09-05   \n",
      "3      355077684019f7f60a031656bd7262b8    delivered    2016-10-03   \n",
      "4      b106b360fe2ef8849fbbd056f777b4d5     canceled    2016-10-03   \n",
      "...                                 ...          ...           ...   \n",
      "49994  1642b8087a8ca0c8592becff7e183c98    delivered    2017-12-15   \n",
      "49995  431bbb57d52f3141ab2f33a6a4cf00a6    delivered    2017-12-15   \n",
      "49996  71f8cd490677ee95362201588c0eaff4    delivered    2017-12-15   \n",
      "49997  71f8cd490677ee95362201588c0eaff4    delivered    2017-12-15   \n",
      "49998  60d2d93a97ec1ad751f2ddce9249ba2a    delivered    2017-12-15   \n",
      "\n",
      "          payment_type product_category_name  product_weight_gram  \n",
      "0      virtual account               fashion               1800.0  \n",
      "1      virtual account            automotive               1400.0  \n",
      "2             e-wallet                  toys                700.0  \n",
      "3             e-wallet             utilities                300.0  \n",
      "4             e-wallet               fashion                500.0  \n",
      "...                ...                   ...                  ...  \n",
      "49994         e-wallet            automotive               2425.0  \n",
      "49995       debit card                beauty               2350.0  \n",
      "49996       debit card                gadget               2600.0  \n",
      "49997         e-wallet                gadget               2600.0  \n",
      "49998      credit card                beauty               1450.0  \n",
      "\n",
      "[49999 rows x 12 columns]\n"
     ]
    }
   ],
   "source": [
    "# Kembalikan kolom shipping_cost menjadi freight_value\n",
    "order_df.rename(columns={'shipping_cost': 'freight_value'}, inplace=True)\n",
    "print(order_df)"
   ]
  },
  {
   "cell_type": "markdown",
   "metadata": {},
   "source": [
    "## LATIHAN\n",
    "Bihaqi diminta tolong untuk mengurus beberapa data penjualan dari dataset oder.csv dari dataset sebelumnya <br>\n",
    "Berikut ya detailnya:<br>\n",
    "\n",
    "1. Median price yang dibayar customer dari masing-masing metode pembayaran.\n",
    "2. Tentukan metode pembayaran yang memiliki basket size (rataan median price) terbesar.\n",
    "3. Ubah freight_value menjadi shipping_cost dan cari shipping_cost termahal dari data penjualan tersebut menggunakan sort.\n",
    "4. Untuk product_category_name, berapa rata-rata weight produk tersebut dan standar deviasi mana yang terkecil dari weight tersebut,\n",
    "5. Buat histogram quantity penjualan dari dataset tersebut untuk melihat persebaran quantity penjualan tersebut dengan bins = 5 dan figsize= (4,5)<br>\n",
    "<br>\n",
    "NOTE:<br>\n",
    "Khusus poin 4, tolong diperhatikan lebih ya, Aksara karena hasil analisisnya akan digunakan kepala cabang dalam menyusun strategi free ongkir."
   ]
  },
  {
   "cell_type": "markdown",
   "metadata": {},
   "source": [
    "## 1.Median price yang dibayar customer dari masing-masing metode pembayaran. \n",
    "buat median dari masing2 metode pembayaran"
   ]
  },
  {
   "cell_type": "code",
   "execution_count": 46,
   "metadata": {},
   "outputs": [
    {
     "name": "stdout",
     "output_type": "stream",
     "text": [
      "payment_type\n",
      "credit card        2587500\n",
      "debit card         2621500\n",
      "e-wallet           2589000\n",
      "virtual account    2643000\n",
      "Name: price, dtype: int64\n"
     ]
    }
   ],
   "source": [
    "median_price = order_df[\"price\"].groupby(order_df[\"payment_type\"]).median()\n",
    "print(median_price)"
   ]
  },
  {
   "cell_type": "markdown",
   "metadata": {},
   "source": [
    "metode pembayaran yang memiliki basket size (rataan median price) terbesar adalah:<br>\n",
    "1. Virtual Account\n",
    "2. Debit Card\n",
    "3. E-Wallet\n",
    "4. Credit Card"
   ]
  },
  {
   "cell_type": "markdown",
   "metadata": {},
   "source": [
    "## 2. Ubah freight_value menjadi shipping_cost dan mengurutkan data penjualan <br> dari nilai yang tertinggi"
   ]
  },
  {
   "cell_type": "code",
   "execution_count": 36,
   "metadata": {},
   "outputs": [
    {
     "name": "stdout",
     "output_type": "stream",
     "text": [
      "                               order_id  quantity  \\\n",
      "23829  7d63cb1d349e7bd0ee1edcc61ea71077         1   \n",
      "12011  00c9f7d4b0e87781465e562dc109f6aa         1   \n",
      "10984  69013d19f8db4cd7dc9f3b5c2564a96f         1   \n",
      "29722  f32c4d2b078bc5a354f4c1184522b5ff         1   \n",
      "15259  c8eab0ccabe8cdfc2afce66c1c554ae2         1   \n",
      "...                                 ...       ...   \n",
      "2891   1d0e8770169496e47622b6cbc0d10bda         1   \n",
      "36815  4bff82a994068f564e54b52b08ef4512         2   \n",
      "8175   e6b1fa22555c3064f984ebeb8a88de77         1   \n",
      "4034   8ac2728285fd4228f35d907768b5288a         4   \n",
      "32994  0286e258217733541e80588e29c208c1         1   \n",
      "\n",
      "                             product_id    price  \\\n",
      "23829  75d6b6963340c6063f7f4cfcccfe6a30  1472000   \n",
      "12011  1a0d662b65b5ef08796501b064c853af  4543000   \n",
      "10984  10d196ec072e2d8382c7ec9c942d7ea8  4137000   \n",
      "29722  0f789be671fe3bd93cabfbb4a710f282  4802000   \n",
      "15259  800f75019492a0d9ffb2483ae65b59f1  4078000   \n",
      "...                                 ...      ...   \n",
      "2891   3fc0f58c51fcd02161542e0320c4dbe7  4135000   \n",
      "36815  24d8da2d499efba175b1092826b7e390  2879000   \n",
      "8175   6fd82d8f842424334fedf31190e54d24  2947000   \n",
      "4034   fa94f25a73969e3a25d52706e246dfcc   967000   \n",
      "32994  3c4223262d31fa35043380da246fb0fa  3337000   \n",
      "\n",
      "                              seller_id  shipping_cost  \\\n",
      "23829  cc419e0650a3c5ba77189a1882b7556a         200000   \n",
      "12011  2e0dba2da448400b1c11d7b4b22f32a4         200000   \n",
      "10984  d12c926d74ceff0a90a21184466ce161         200000   \n",
      "29722  259f7b5e6e482c230e5bfaa670b6bb8f         200000   \n",
      "15259  efcd8d2104f1a05d028af7bad20d974b         200000   \n",
      "...                                 ...            ...   \n",
      "2891   82e0a475a88cc9595229d8029273f045           9000   \n",
      "36815  d12c926d74ceff0a90a21184466ce161           9000   \n",
      "8175   6560211a19b47992c3666cc44a7e94c0           9000   \n",
      "4034   004c9cd9d87a3c30c522c48c4fc07416           9000   \n",
      "32994  cb3dd9ce66268c7a3ca7241ac70ab58c           9000   \n",
      "\n",
      "                            customer_id order_status purchase_date  \\\n",
      "23829  484711e3d14ac75fb874e949b3a28395    delivered    2017-08-14   \n",
      "12011  cea80f9af87104810bd7fa9698f69d29    delivered    2017-05-22   \n",
      "10984  9cf423929ed7f738fd0a0e88607a79fd    delivered    2017-05-15   \n",
      "29722  5a1523d32a6d1b323a05895f5164655d    delivered    2017-09-18   \n",
      "15259  2339ab3abbeebe72f2782a01c87a9bc0    delivered    2017-06-14   \n",
      "...                                 ...          ...           ...   \n",
      "2891   e3cfff24939005d30dd3a046848227d6    delivered    2017-02-22   \n",
      "36815  2e998a151ac7a977d4a7e806346e0092    delivered    2017-10-30   \n",
      "8175   02d6ca625564571402a933db8fe814f0    delivered    2017-04-21   \n",
      "4034   6b5e281c1563241783deb3a2636daa28    delivered    2017-03-08   \n",
      "32994  010583f85dd55d32a6db1068f58ca6f1    delivered    2017-10-09   \n",
      "\n",
      "          payment_type product_category_name  product_weight_gram  \n",
      "23829      credit card                gadget                400.0  \n",
      "12011         e-wallet                  toys                900.0  \n",
      "10984      credit card             utilities                250.0  \n",
      "29722      credit card                  toys                450.0  \n",
      "15259       debit card                sports                100.0  \n",
      "...                ...                   ...                  ...  \n",
      "2891        debit card               fashion                900.0  \n",
      "36815         e-wallet               fashion                150.0  \n",
      "8175   virtual account           electronics                250.0  \n",
      "4034   virtual account               fashion               1700.0  \n",
      "32994  virtual account             utilities                700.0  \n",
      "\n",
      "[49999 rows x 12 columns]\n"
     ]
    }
   ],
   "source": [
    "order_df.rename(columns={\"freight_value\": \"shipping_cost\"}, inplace=True)\n",
    "sort_value = order_df.sort_values(by=\"shipping_cost\", ascending=0)\n",
    "print(sort_value)"
   ]
  },
  {
   "cell_type": "markdown",
   "metadata": {},
   "source": [
    "## 3. Untuk product_category_name, cari berapa  rata-rata weight produk tersebut <br> dan standar deviasi mana yang terkecil dari weight tersebut."
   ]
  },
  {
   "cell_type": "code",
   "execution_count": 37,
   "metadata": {},
   "outputs": [
    {
     "name": "stdout",
     "output_type": "stream",
     "text": [
      "product_category_name\n",
      "automotive     3799.884166\n",
      "beauty         3837.474929\n",
      "electronics    3839.271768\n",
      "fashion        3858.885213\n",
      "gadget         3955.792741\n",
      "sports         4032.850044\n",
      "toys           3956.814749\n",
      "utilities      4150.509909\n",
      "Name: product_weight_gram, dtype: float64\n",
      "product_category_name\n",
      "automotive     1.443912e+07\n",
      "beauty         1.472621e+07\n",
      "electronics    1.474001e+07\n",
      "fashion        1.489100e+07\n",
      "gadget         1.564830e+07\n",
      "sports         1.626388e+07\n",
      "toys           1.565638e+07\n",
      "utilities      1.722673e+07\n",
      "Name: product_weight_gram, dtype: float64\n"
     ]
    }
   ],
   "source": [
    "mean_value = order_df[\"product_weight_gram\"].groupby(order_df[\"product_category_name\"]).std()\n",
    "print(mean_value)\n",
    "std_value = order_df[\"product_weight_gram\"].groupby(order_df[\"product_category_name\"]).var()\n",
    "print(std_value)"
   ]
  },
  {
   "cell_type": "markdown",
   "metadata": {},
   "source": [
    "## Buat Histogram Untum mengetahui Persebaran Data "
   ]
  },
  {
   "cell_type": "code",
   "execution_count": 38,
   "metadata": {},
   "outputs": [
    {
     "data": {
      "image/png": "[encoded data removed]",
      "text/plain": [
       "<Figure size 288x360 with 1 Axes>"
      ]
     },
     "metadata": {
      "needs_background": "light"
     },
     "output_type": "display_data"
    }
   ],
   "source": [
    "# Buat histogram quantity penjualan dari dataset tersebutuntuk melihat persebaran quantity \n",
    "# penjualan tersebut dengan bins = 5 dan figsize= (4,5)\n",
    "order_df[[\"quantity\"]].hist(figsize=(4, 5), bins=10)\n",
    "plt.show()"
   ]
  },
  {
   "cell_type": "code",
   "execution_count": null,
   "metadata": {},
   "outputs": [],
   "source": []
  }
 ],
 "metadata": {
  "kernelspec": {
   "display_name": "Python 3",
   "language": "python",
   "name": "python3"
  },
  "language_info": {
   "codemirror_mode": {
    "name": "ipython",
    "version": 3
   },
   "file_extension": ".py",
   "mimetype": "text/x-python",
   "name": "python",
   "nbconvert_exporter": "python",
   "pygments_lexer": "ipython3",
   "version": "3.8.3"
  }
 },
 "nbformat": 4,
 "nbformat_minor": 4
}
