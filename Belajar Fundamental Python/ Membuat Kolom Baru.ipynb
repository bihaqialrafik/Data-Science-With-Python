{
 "cells": [
  {
   "cell_type": "markdown",
   "metadata": {},
   "source": [
    "# <font color = blue>MENAMBAH KOLOM BARU"
   ]
  },
  {
   "cell_type": "markdown",
   "metadata": {},
   "source": [
    "Menambah kolom baru berdasarkan kolom yang sudah ada <br>\n",
    "kali ini akan menambahkan kolom <font color = red> 'order_mounth' </font> berpacu pada kolom 'order_date'"
   ]
  },
  {
   "cell_type": "code",
   "execution_count": 1,
   "metadata": {},
   "outputs": [],
   "source": [
    "import pandas as pd\n",
    "import datetime"
   ]
  },
  {
   "cell_type": "code",
   "execution_count": 2,
   "metadata": {},
   "outputs": [
    {
     "name": "stdout",
     "output_type": "stream",
     "text": [
      "Ukuran dataset: 5000 baris dan 9 kolom\n",
      "\n",
      "Lima data teratas:\n",
      "   order_id  order_date  customer_id             city     province product_id  \\\n",
      "0   1703458  2019-10-17        14004  Jakarta Selatan  DKI Jakarta      P1910   \n",
      "1   1706815  2019-10-24        17220  Jakarta Selatan  DKI Jakarta      P2934   \n",
      "2   1710718  2019-11-03        16518    Jakarta Utara  DKI Jakarta      P0908   \n",
      "3   1683592  2019-08-19        16364    Jakarta Barat  DKI Jakarta      P0128   \n",
      "4   1702573  2019-10-16        15696    Jakarta Timur  DKI Jakarta      P2968   \n",
      "\n",
      "     brand  quantity  item_price  \n",
      "0  BRAND_J        10      740000  \n",
      "1  BRAND_R         2      604000  \n",
      "2  BRAND_C         8     1045000  \n",
      "3  BRAND_A         4      205000  \n",
      "4  BRAND_R         2     4475000  \n"
     ]
    }
   ],
   "source": [
    "dataset = pd.read_csv ('https://dqlab-dataset.s3-ap-southeast-1.amazonaws.com/retail_raw_reduced.csv')\n",
    "print('Ukuran dataset: %d baris dan %d kolom\\n' % dataset.shape)\n",
    "print('Lima data teratas:')\n",
    "print(dataset.head())"
   ]
  },
  {
   "cell_type": "markdown",
   "metadata": {},
   "source": [
    "## PENJELASAN FUNCTION"
   ]
  },
  {
   "cell_type": "markdown",
   "metadata": {},
   "source": [
    "#### Ada beberapa function yang berperan di sini:\n",
    "\n",
    "- ***apply & lambda*** biasa digunakan untuk membuat kolom baru, berdasarkan suatu kolom lain yang sudah ada <br>\n",
    "(misal .apply(lambda x: x*2) berarti setiap input x di dalam kolom, akan diubah menjadi x*2). <br> \n",
    "Dalam hal ini kolom yang sudah ada  adalah dataset['order_date'], lalu tiap nilai di dalamnya kita proses agar menjadi month-nya saja<br>\n",
    "- Function ***datetime.datetime.strptime*** digunakan untuk mengubah date/time dalam bentuk string menjadi tipe data datetime. <br>\n",
    "- Function  ***strftime*** digunakan untuk mengubah format suatu data bertime datetime, dalam hal ini diubah menjadi '%Y-%m',<br> \n",
    "yang berarti outputnya adalah waktu dengan bentuk YYYY-MM atau tahun dan bulan saja, tanggalnya sudah tidak ada "
   ]
  },
  {
   "cell_type": "code",
   "execution_count": 3,
   "metadata": {},
   "outputs": [
    {
     "name": "stdout",
     "output_type": "stream",
     "text": [
      "   order_id  order_date  customer_id             city     province product_id  \\\n",
      "0   1703458  2019-10-17        14004  Jakarta Selatan  DKI Jakarta      P1910   \n",
      "1   1706815  2019-10-24        17220  Jakarta Selatan  DKI Jakarta      P2934   \n",
      "2   1710718  2019-11-03        16518    Jakarta Utara  DKI Jakarta      P0908   \n",
      "3   1683592  2019-08-19        16364    Jakarta Barat  DKI Jakarta      P0128   \n",
      "4   1702573  2019-10-16        15696    Jakarta Timur  DKI Jakarta      P2968   \n",
      "\n",
      "     brand  quantity  item_price order_month  \n",
      "0  BRAND_J        10      740000     2019-10  \n",
      "1  BRAND_R         2      604000     2019-10  \n",
      "2  BRAND_C         8     1045000     2019-11  \n",
      "3  BRAND_A         4      205000     2019-08  \n",
      "4  BRAND_R         2     4475000     2019-10  \n"
     ]
    }
   ],
   "source": [
    "dataset['order_month'] = dataset['order_date'].apply(lambda x: datetime.datetime.strptime(x, \"%Y-%m-%d\").strftime('%Y-%m'))\n",
    "print(dataset.head())"
   ]
  },
  {
   "cell_type": "markdown",
   "metadata": {},
   "source": [
    "### Menambah Kolom Baru Bernama 'Gmv'"
   ]
  },
  {
   "cell_type": "markdown",
   "metadata": {},
   "source": [
    "Pada bagian ini akan ditambahkan kolom baru bernama **Gmv** yang berasal dari perkalian kolom **item_price** dan kolom **quantity**"
   ]
  },
  {
   "cell_type": "code",
   "execution_count": 11,
   "metadata": {},
   "outputs": [],
   "source": [
    "dataset[\"Gmv\"] = dataset[\"item_price\"] * dataset[\"quantity\"]"
   ]
  },
  {
   "cell_type": "code",
   "execution_count": 16,
   "metadata": {},
   "outputs": [
    {
     "data": {
      "text/html": [
       "<div>\n",
       "<style scoped>\n",
       "    .dataframe tbody tr th:only-of-type {\n",
       "        vertical-align: middle;\n",
       "    }\n",
       "\n",
       "    .dataframe tbody tr th {\n",
       "        vertical-align: top;\n",
       "    }\n",
       "\n",
       "    .dataframe thead th {\n",
       "        text-align: right;\n",
       "    }\n",
       "</style>\n",
       "<table border=\"1\" class=\"dataframe\">\n",
       "  <thead>\n",
       "    <tr style=\"text-align: right;\">\n",
       "      <th></th>\n",
       "      <th>order_id</th>\n",
       "      <th>order_date</th>\n",
       "      <th>customer_id</th>\n",
       "      <th>city</th>\n",
       "      <th>province</th>\n",
       "      <th>product_id</th>\n",
       "      <th>brand</th>\n",
       "      <th>quantity</th>\n",
       "      <th>item_price</th>\n",
       "      <th>order_month</th>\n",
       "      <th>Gmv</th>\n",
       "    </tr>\n",
       "  </thead>\n",
       "  <tbody>\n",
       "    <tr>\n",
       "      <th>0</th>\n",
       "      <td>1703458</td>\n",
       "      <td>2019-10-17</td>\n",
       "      <td>14004</td>\n",
       "      <td>Jakarta Selatan</td>\n",
       "      <td>DKI Jakarta</td>\n",
       "      <td>P1910</td>\n",
       "      <td>BRAND_J</td>\n",
       "      <td>10</td>\n",
       "      <td>740000</td>\n",
       "      <td>2019-10</td>\n",
       "      <td>7400000</td>\n",
       "    </tr>\n",
       "    <tr>\n",
       "      <th>1</th>\n",
       "      <td>1706815</td>\n",
       "      <td>2019-10-24</td>\n",
       "      <td>17220</td>\n",
       "      <td>Jakarta Selatan</td>\n",
       "      <td>DKI Jakarta</td>\n",
       "      <td>P2934</td>\n",
       "      <td>BRAND_R</td>\n",
       "      <td>2</td>\n",
       "      <td>604000</td>\n",
       "      <td>2019-10</td>\n",
       "      <td>1208000</td>\n",
       "    </tr>\n",
       "    <tr>\n",
       "      <th>2</th>\n",
       "      <td>1710718</td>\n",
       "      <td>2019-11-03</td>\n",
       "      <td>16518</td>\n",
       "      <td>Jakarta Utara</td>\n",
       "      <td>DKI Jakarta</td>\n",
       "      <td>P0908</td>\n",
       "      <td>BRAND_C</td>\n",
       "      <td>8</td>\n",
       "      <td>1045000</td>\n",
       "      <td>2019-11</td>\n",
       "      <td>8360000</td>\n",
       "    </tr>\n",
       "    <tr>\n",
       "      <th>3</th>\n",
       "      <td>1683592</td>\n",
       "      <td>2019-08-19</td>\n",
       "      <td>16364</td>\n",
       "      <td>Jakarta Barat</td>\n",
       "      <td>DKI Jakarta</td>\n",
       "      <td>P0128</td>\n",
       "      <td>BRAND_A</td>\n",
       "      <td>4</td>\n",
       "      <td>205000</td>\n",
       "      <td>2019-08</td>\n",
       "      <td>820000</td>\n",
       "    </tr>\n",
       "    <tr>\n",
       "      <th>4</th>\n",
       "      <td>1702573</td>\n",
       "      <td>2019-10-16</td>\n",
       "      <td>15696</td>\n",
       "      <td>Jakarta Timur</td>\n",
       "      <td>DKI Jakarta</td>\n",
       "      <td>P2968</td>\n",
       "      <td>BRAND_R</td>\n",
       "      <td>2</td>\n",
       "      <td>4475000</td>\n",
       "      <td>2019-10</td>\n",
       "      <td>8950000</td>\n",
       "    </tr>\n",
       "  </tbody>\n",
       "</table>\n",
       "</div>"
      ],
      "text/plain": [
       "   order_id  order_date  customer_id             city     province product_id  \\\n",
       "0   1703458  2019-10-17        14004  Jakarta Selatan  DKI Jakarta      P1910   \n",
       "1   1706815  2019-10-24        17220  Jakarta Selatan  DKI Jakarta      P2934   \n",
       "2   1710718  2019-11-03        16518    Jakarta Utara  DKI Jakarta      P0908   \n",
       "3   1683592  2019-08-19        16364    Jakarta Barat  DKI Jakarta      P0128   \n",
       "4   1702573  2019-10-16        15696    Jakarta Timur  DKI Jakarta      P2968   \n",
       "\n",
       "     brand  quantity  item_price order_month      Gmv  \n",
       "0  BRAND_J        10      740000     2019-10  7400000  \n",
       "1  BRAND_R         2      604000     2019-10  1208000  \n",
       "2  BRAND_C         8     1045000     2019-11  8360000  \n",
       "3  BRAND_A         4      205000     2019-08   820000  \n",
       "4  BRAND_R         2     4475000     2019-10  8950000  "
      ]
     },
     "execution_count": 16,
     "metadata": {},
     "output_type": "execute_result"
    }
   ],
   "source": [
    "dataset.head()"
   ]
  },
  {
   "cell_type": "code",
   "execution_count": 23,
   "metadata": {},
   "outputs": [],
   "source": [
    "dataset.to_csv(\"data retail.csv\", index = False)"
   ]
  },
  {
   "cell_type": "markdown",
   "metadata": {},
   "source": [
    "#### Kunjungi Github Saya Untuk Pembelajaran Lainya <br>\n",
    "Klik [@Bihaqialrafik](https://github.com/bihaqialrafik/Data-Science-With-Python)"
   ]
  },
  {
   "cell_type": "code",
   "execution_count": null,
   "metadata": {},
   "outputs": [],
   "source": []
  }
 ],
 "metadata": {
  "kernelspec": {
   "display_name": "Python 3",
   "language": "python",
   "name": "python3"
  },
  "language_info": {
   "codemirror_mode": {
    "name": "ipython",
    "version": 3
   },
   "file_extension": ".py",
   "mimetype": "text/x-python",
   "name": "python",
   "nbconvert_exporter": "python",
   "pygments_lexer": "ipython3",
   "version": "3.8.3"
  }
 },
 "nbformat": 4,
 "nbformat_minor": 4
}
