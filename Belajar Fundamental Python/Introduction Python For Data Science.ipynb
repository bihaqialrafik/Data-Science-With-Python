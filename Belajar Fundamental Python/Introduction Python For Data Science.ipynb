{
 "cells": [
  {
   "cell_type": "code",
   "execution_count": 10,
   "metadata": {},
   "outputs": [
    {
     "name": "stdout",
     "output_type": "stream",
     "text": [
      "['B', 'e', 'l', 'a', 'j', 'a', 'r', ' ', 'P', 'y', 't', 'h', 'o', 'n', ' ', 'd', 'i', ' ', 'D', 'Q', 'L', 'a', 'b', '.']\n",
      "('B', 'e', 'l', 'a', 'j', 'a', 'r', ' ', 'P', 'y', 't', 'h', 'o', 'n', ' ', 'd', 'i', ' ', 'D', 'Q', 'L', 'a', 'b', '.')\n",
      "{'y', 't', 'B', 'D', 'Q', 'i', 'j', 'e', 'h', 'd', 'r', '.', 'b', 'n', 'l', 'P', 'a', ' ', 'L', 'o'}\n"
     ]
    },
    {
     "data": {
      "text/plain": [
       "'\\n1. Pada baris 2, perintah list akan mengubah text menjadi tipe data list dan mencetak nilainya.\\n\\n2. Pada baris 3, perintah tuple akan mengubah text menjadi tipe data tuple dan mencetak nilainya.\\n\\n3. Pada baris 4, perintah set akan mengubah text menjadi tipe data set dan mencetak nilainya.\\n'"
      ]
     },
     "execution_count": 10,
     "metadata": {},
     "output_type": "execute_result"
    }
   ],
   "source": [
    "# Tipe data \n",
    "text = \"Belajar Python di DQLab.\"\n",
    "print(list(text))\n",
    "print(tuple(text))\n",
    "print(set(text))\n",
    "\n",
    "'''\n",
    "1. Pada baris 2, perintah list akan mengubah text menjadi tipe data list dan mencetak nilainya.\n",
    "\n",
    "2. Pada baris 3, perintah tuple akan mengubah text menjadi tipe data tuple dan mencetak nilainya.\n",
    "\n",
    "3. Pada baris 4, perintah set akan mengubah text menjadi tipe data set dan mencetak nilainya.\n",
    "'''"
   ]
  },
  {
   "cell_type": "code",
   "execution_count": null,
   "metadata": {},
   "outputs": [],
   "source": []
  }
 ],
 "metadata": {
  "kernelspec": {
   "display_name": "Python 3",
   "language": "python",
   "name": "python3"
  },
  "language_info": {
   "codemirror_mode": {
    "name": "ipython",
    "version": 3
   },
   "file_extension": ".py",
   "mimetype": "text/x-python",
   "name": "python",
   "nbconvert_exporter": "python",
   "pygments_lexer": "ipython3",
   "version": "3.7.6"
  }
 },
 "nbformat": 4,
 "nbformat_minor": 4
}
