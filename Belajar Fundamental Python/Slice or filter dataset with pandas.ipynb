{
 "cells": [
  {
   "cell_type": "code",
   "execution_count": 6,
   "metadata": {},
   "outputs": [],
   "source": [
    "import pandas as pd\n",
    "import numpy as np"
   ]
  },
  {
   "cell_type": "code",
   "execution_count": 8,
   "metadata": {},
   "outputs": [
    {
     "name": "stdout",
     "output_type": "stream",
     "text": [
      "Slice langsung berdasarkan kolom:\n",
      "     order_id  order_date  customer_id             city     province  \\\n",
      "9    1612339  2019-01-01        18055  Jakarta Selatan  DKI Jakarta   \n",
      "10   1612339  2019-01-01        18055  Jakarta Selatan  DKI Jakarta   \n",
      "\n",
      "   product_id    brand  quantity  item_price  \n",
      "9       P2556  BRAND_P         6     1045000  \n",
      "10      P2154  BRAND_M         4     1745000  \n"
     ]
    }
   ],
   "source": [
    "# Baca file sample_csv.csv\n",
    "df = pd.read_csv(\"https://dqlab-dataset.s3-ap-southeast-1.amazonaws.com/sample_csv.csv\")\n",
    "# Slice langsung berdasarkan kolom\n",
    "df_slice = df.loc[(df[\"order_date\"] == \"2019-01-01\") &\n",
    "                  (df[\"product_id\"].isin([\"P2154\",\"P2556\"]))\n",
    "                 ]\n",
    "print(\"Slice langsung berdasarkan kolom:\\n\", df_slice)"
   ]
  }
 ],
 "metadata": {
  "kernelspec": {
   "display_name": "Python 3",
   "language": "python",
   "name": "python3"
  },
  "language_info": {
   "codemirror_mode": {
    "name": "ipython",
    "version": 3
   },
   "file_extension": ".py",
   "mimetype": "text/x-python",
   "name": "python",
   "nbconvert_exporter": "python",
   "pygments_lexer": "ipython3",
   "version": "3.7.6"
  }
 },
 "nbformat": 4,
 "nbformat_minor": 4
}
