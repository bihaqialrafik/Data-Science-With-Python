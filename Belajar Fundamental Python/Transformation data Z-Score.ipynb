{
 "cells": [
  {
   "cell_type": "code",
   "execution_count": 1,
   "metadata": {},
   "outputs": [],
   "source": [
    "#Import Library yang Dibutuhkan\n",
    "import pandas as pd\n",
    "import numpy as np\n",
    "from sklearn import preprocessing\n",
    "from sklearn.preprocessing import StandardScaler"
   ]
  },
  {
   "cell_type": "code",
   "execution_count": 6,
   "metadata": {},
   "outputs": [],
   "source": [
    "#Menbaca Dataset pada Local Komputer\n",
    "dataset = pd.read_excel('Kmeans_dataset.xlsx')\n",
    "array = dataset.values"
   ]
  },
  {
   "cell_type": "code",
   "execution_count": 7,
   "metadata": {},
   "outputs": [
    {
     "name": "stdout",
     "output_type": "stream",
     "text": [
      "<class 'pandas.core.frame.DataFrame'>\n",
      "RangeIndex: 510 entries, 0 to 509\n",
      "Data columns (total 5 columns):\n",
      " #   Column         Non-Null Count  Dtype  \n",
      "---  ------         --------------  -----  \n",
      " 0   no             510 non-null    int64  \n",
      " 1   jenis_tanaman  510 non-null    object \n",
      " 2   provinsi       510 non-null    object \n",
      " 3   luas_panen     510 non-null    float64\n",
      " 4   produksi       510 non-null    float64\n",
      "dtypes: float64(2), int64(1), object(2)\n",
      "memory usage: 20.0+ KB\n"
     ]
    }
   ],
   "source": [
    "dataset.info()"
   ]
  },
  {
   "cell_type": "code",
   "execution_count": 8,
   "metadata": {},
   "outputs": [
    {
     "name": "stdout",
     "output_type": "stream",
     "text": [
      "  jenis_tanaman              provinsi  luas_panen   produksi\n",
      "0          Jahe                  Aceh    103.3079   3307.073\n",
      "1          Jahe        Sumatera Utara    213.3948   5452.774\n",
      "2          Jahe        Sumatera Barat     91.0781   3177.549\n",
      "3          Jahe                  Riau     28.1259    918.147\n",
      "4          Jahe                 Jambi     57.5993   1526.997\n",
      "5          Jahe      Sumatera Selatan     44.5155    852.738\n",
      "6          Jahe              Bengkulu    262.1258  13988.248\n",
      "7          Jahe               Lampung    111.3792   1935.773\n",
      "8          Jahe  Kep. Bangka Belitung      9.6566    243.422\n",
      "9          Jahe        Kepulauan Riau      1.1104     18.218\n"
     ]
    }
   ],
   "source": [
    "#Menghapus kolom yang tidak dibutuhkan\n",
    "dataset = dataset.drop([\"no\"], axis = 1)\n",
    "print(dataset.head(10))"
   ]
  },
  {
   "cell_type": "code",
   "execution_count": 9,
   "metadata": {},
   "outputs": [],
   "source": [
    "#Transformasi Data\n",
    "scale_X = StandardScaler()\n",
    "dataset_zscore = scale_X.fit_transform(dataset[[\"luas_panen\",\"produksi\"]])"
   ]
  },
  {
   "cell_type": "code",
   "execution_count": 10,
   "metadata": {},
   "outputs": [],
   "source": [
    "#Menjadikan hasil transformasi kedalam dataset\n",
    "dataset_zscore = pd.DataFrame(dataset_zscore)"
   ]
  },
  {
   "cell_type": "code",
   "execution_count": 11,
   "metadata": {},
   "outputs": [],
   "source": [
    "#Memberi Label pada Hasil Transformasi\n",
    "dataset[\"Zscore_luas_panen\"] = dataset_zscore[0]\n",
    "dataset[\"Zscore_produksi\"] = dataset_zscore[1]"
   ]
  },
  {
   "cell_type": "code",
   "execution_count": 12,
   "metadata": {},
   "outputs": [],
   "source": [
    "#menyimpan hasil Transformasi data kedalam file excel jika diperlukan\n",
    "dataset.to_excel(\"Kmeans dataset_Trans.xlsx\", index=False)"
   ]
  },
  {
   "cell_type": "code",
   "execution_count": 15,
   "metadata": {},
   "outputs": [
    {
     "name": "stdout",
     "output_type": "stream",
     "text": [
      "<class 'pandas.core.frame.DataFrame'>\n",
      "RangeIndex: 510 entries, 0 to 509\n",
      "Data columns (total 6 columns):\n",
      " #   Column             Non-Null Count  Dtype  \n",
      "---  ------             --------------  -----  \n",
      " 0   jenis_tanaman      510 non-null    object \n",
      " 1   provinsi           510 non-null    object \n",
      " 2   luas_panen         510 non-null    float64\n",
      " 3   produksi           510 non-null    float64\n",
      " 4   Zscore_luas_panen  510 non-null    float64\n",
      " 5   Zscore_produksi    510 non-null    float64\n",
      "dtypes: float64(4), object(2)\n",
      "memory usage: 24.0+ KB\n"
     ]
    },
    {
     "data": {
      "text/html": [
       "<div>\n",
       "<style scoped>\n",
       "    .dataframe tbody tr th:only-of-type {\n",
       "        vertical-align: middle;\n",
       "    }\n",
       "\n",
       "    .dataframe tbody tr th {\n",
       "        vertical-align: top;\n",
       "    }\n",
       "\n",
       "    .dataframe thead th {\n",
       "        text-align: right;\n",
       "    }\n",
       "</style>\n",
       "<table border=\"1\" class=\"dataframe\">\n",
       "  <thead>\n",
       "    <tr style=\"text-align: right;\">\n",
       "      <th></th>\n",
       "      <th>jenis_tanaman</th>\n",
       "      <th>provinsi</th>\n",
       "      <th>luas_panen</th>\n",
       "      <th>produksi</th>\n",
       "      <th>Zscore_luas_panen</th>\n",
       "      <th>Zscore_produksi</th>\n",
       "    </tr>\n",
       "  </thead>\n",
       "  <tbody>\n",
       "    <tr>\n",
       "      <th>0</th>\n",
       "      <td>Jahe</td>\n",
       "      <td>Aceh</td>\n",
       "      <td>103.3079</td>\n",
       "      <td>3307.073</td>\n",
       "      <td>0.142808</td>\n",
       "      <td>0.271157</td>\n",
       "    </tr>\n",
       "    <tr>\n",
       "      <th>1</th>\n",
       "      <td>Jahe</td>\n",
       "      <td>Sumatera Utara</td>\n",
       "      <td>213.3948</td>\n",
       "      <td>5452.774</td>\n",
       "      <td>0.474414</td>\n",
       "      <td>0.564927</td>\n",
       "    </tr>\n",
       "    <tr>\n",
       "      <th>2</th>\n",
       "      <td>Jahe</td>\n",
       "      <td>Sumatera Barat</td>\n",
       "      <td>91.0781</td>\n",
       "      <td>3177.549</td>\n",
       "      <td>0.105969</td>\n",
       "      <td>0.253424</td>\n",
       "    </tr>\n",
       "    <tr>\n",
       "      <th>3</th>\n",
       "      <td>Jahe</td>\n",
       "      <td>Riau</td>\n",
       "      <td>28.1259</td>\n",
       "      <td>918.147</td>\n",
       "      <td>-0.083657</td>\n",
       "      <td>-0.055914</td>\n",
       "    </tr>\n",
       "    <tr>\n",
       "      <th>4</th>\n",
       "      <td>Jahe</td>\n",
       "      <td>Jambi</td>\n",
       "      <td>57.5993</td>\n",
       "      <td>1526.997</td>\n",
       "      <td>0.005124</td>\n",
       "      <td>0.027445</td>\n",
       "    </tr>\n",
       "    <tr>\n",
       "      <th>5</th>\n",
       "      <td>Jahe</td>\n",
       "      <td>Sumatera Selatan</td>\n",
       "      <td>44.5155</td>\n",
       "      <td>852.738</td>\n",
       "      <td>-0.034288</td>\n",
       "      <td>-0.064869</td>\n",
       "    </tr>\n",
       "    <tr>\n",
       "      <th>6</th>\n",
       "      <td>Jahe</td>\n",
       "      <td>Bengkulu</td>\n",
       "      <td>262.1258</td>\n",
       "      <td>13988.248</td>\n",
       "      <td>0.621203</td>\n",
       "      <td>1.733529</td>\n",
       "    </tr>\n",
       "    <tr>\n",
       "      <th>7</th>\n",
       "      <td>Jahe</td>\n",
       "      <td>Lampung</td>\n",
       "      <td>111.3792</td>\n",
       "      <td>1935.773</td>\n",
       "      <td>0.167121</td>\n",
       "      <td>0.083411</td>\n",
       "    </tr>\n",
       "    <tr>\n",
       "      <th>8</th>\n",
       "      <td>Jahe</td>\n",
       "      <td>Kep. Bangka Belitung</td>\n",
       "      <td>9.6566</td>\n",
       "      <td>243.422</td>\n",
       "      <td>-0.139290</td>\n",
       "      <td>-0.148291</td>\n",
       "    </tr>\n",
       "    <tr>\n",
       "      <th>9</th>\n",
       "      <td>Jahe</td>\n",
       "      <td>Kepulauan Riau</td>\n",
       "      <td>1.1104</td>\n",
       "      <td>18.218</td>\n",
       "      <td>-0.165033</td>\n",
       "      <td>-0.179124</td>\n",
       "    </tr>\n",
       "  </tbody>\n",
       "</table>\n",
       "</div>"
      ],
      "text/plain": [
       "  jenis_tanaman              provinsi  luas_panen   produksi  \\\n",
       "0          Jahe                  Aceh    103.3079   3307.073   \n",
       "1          Jahe        Sumatera Utara    213.3948   5452.774   \n",
       "2          Jahe        Sumatera Barat     91.0781   3177.549   \n",
       "3          Jahe                  Riau     28.1259    918.147   \n",
       "4          Jahe                 Jambi     57.5993   1526.997   \n",
       "5          Jahe      Sumatera Selatan     44.5155    852.738   \n",
       "6          Jahe              Bengkulu    262.1258  13988.248   \n",
       "7          Jahe               Lampung    111.3792   1935.773   \n",
       "8          Jahe  Kep. Bangka Belitung      9.6566    243.422   \n",
       "9          Jahe        Kepulauan Riau      1.1104     18.218   \n",
       "\n",
       "   Zscore_luas_panen  Zscore_produksi  \n",
       "0           0.142808         0.271157  \n",
       "1           0.474414         0.564927  \n",
       "2           0.105969         0.253424  \n",
       "3          -0.083657        -0.055914  \n",
       "4           0.005124         0.027445  \n",
       "5          -0.034288        -0.064869  \n",
       "6           0.621203         1.733529  \n",
       "7           0.167121         0.083411  \n",
       "8          -0.139290        -0.148291  \n",
       "9          -0.165033        -0.179124  "
      ]
     },
     "execution_count": 15,
     "metadata": {},
     "output_type": "execute_result"
    }
   ],
   "source": [
    "#Cek Struktur data dan menampilkan 10 data pertama\n",
    "dataset.info()\n",
    "dataset.head(10)"
   ]
  },
  {
   "cell_type": "code",
   "execution_count": null,
   "metadata": {},
   "outputs": [],
   "source": []
  }
 ],
 "metadata": {
  "kernelspec": {
   "display_name": "Python 3",
   "language": "python",
   "name": "python3"
  },
  "language_info": {
   "codemirror_mode": {
    "name": "ipython",
    "version": 3
   },
   "file_extension": ".py",
   "mimetype": "text/x-python",
   "name": "python",
   "nbconvert_exporter": "python",
   "pygments_lexer": "ipython3",
   "version": "3.7.6"
  }
 },
 "nbformat": 4,
 "nbformat_minor": 4
}
