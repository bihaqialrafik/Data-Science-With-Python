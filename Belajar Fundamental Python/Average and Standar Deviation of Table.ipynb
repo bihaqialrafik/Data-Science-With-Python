{
 "cells": [
  {
   "cell_type": "code",
   "execution_count": 1,
   "metadata": {},
   "outputs": [],
   "source": [
    "# Data properti\n",
    "tabel_properti = {\n",
    "'luas_tanah': [70, 70, 70, 100, 100, 100, 120, 120, 150, 150],\n",
    "'luas_bangunan': [50, 60, 60, 50, 70, 70, 100, 80, 100, 90],\n",
    "'jarak': [15, 30, 55, 30, 25, 50, 20, 50, 50, 15],\n",
    "'harga': [500, 400, 300, 700, 1000, 650, 2000, 1200, 1800, 3000]\n",
    "}"
   ]
  },
  {
   "cell_type": "code",
   "execution_count": 2,
   "metadata": {},
   "outputs": [],
   "source": [
    "# Fungsi rata-rata data\n",
    "def hitung_rata_rata(data):\n",
    "    jumlah = 0\n",
    "    for item in data:\n",
    "        jumlah += item\n",
    "    rata_rata = jumlah/len(data)\n",
    "    return rata_rata"
   ]
  },
  {
   "cell_type": "code",
   "execution_count": 3,
   "metadata": {},
   "outputs": [],
   "source": [
    "# Fungsi hitung_standar_deviasi\n",
    "def hitung_standar_deviasi(data):\n",
    "    rata_rata_data = hitung_rata_rata(data)\n",
    "    varians = 0\n",
    "    for item in data:\n",
    "        varians += (item - rata_rata_data) ** 2\n",
    "        varians /= len(data)\n",
    "    standar_deviasi = varians ** (1/2)\n",
    "    return standar_deviasi"
   ]
  },
  {
   "cell_type": "code",
   "execution_count": 9,
   "metadata": {},
   "outputs": [
    {
     "name": "stdout",
     "output_type": "stream",
     "text": [
      "Rata-rata luas_tanah:\n",
      "105.0\n",
      "Standar deviasi luas_tanah:\n",
      "14.93311056335886\n",
      "\n",
      "Rata-rata luas_bangunan:\n",
      "73.0\n",
      "Standar deviasi luas_bangunan:\n",
      "6.025948374480153\n",
      "\n",
      "Rata-rata jarak:\n",
      "34.0\n",
      "Standar deviasi jarak:\n",
      "6.24005184770928\n",
      "\n",
      "Rata-rata harga:\n",
      "1155.0\n",
      "Standar deviasi harga:\n",
      "587.0594351517378\n",
      "\n"
     ]
    }
   ],
   "source": [
    "# Definisikan fungsi untuk menghitung rata-rata dan standar deviasi\n",
    "# setiap kolom pada tabel_properti yang diberikan oleh key dict.\n",
    "def deskripsi_properti(tabel):\n",
    "    for key in tabel.keys():\n",
    "        print('Rata-rata ' + key + ':')\n",
    "        print(hitung_rata_rata(tabel[key])) \n",
    "        print('Standar deviasi ' + key + ':')\n",
    "        print(hitung_standar_deviasi(tabel[key]))\n",
    "        print('')\n",
    "# Panggil fungsi deskripsi_properti untuk menghitung rata-rata \n",
    "# dan standar deviasi setiap kolom pada tabel_properti\n",
    "deskripsi_properti(tabel_properti)"
   ]
  },
  {
   "cell_type": "code",
   "execution_count": null,
   "metadata": {},
   "outputs": [],
   "source": []
  }
 ],
 "metadata": {
  "kernelspec": {
   "display_name": "Python 3",
   "language": "python",
   "name": "python3"
  },
  "language_info": {
   "codemirror_mode": {
    "name": "ipython",
    "version": 3
   },
   "file_extension": ".py",
   "mimetype": "text/x-python",
   "name": "python",
   "nbconvert_exporter": "python",
   "pygments_lexer": "ipython3",
   "version": "3.7.6"
  }
 },
 "nbformat": 4,
 "nbformat_minor": 4
}
